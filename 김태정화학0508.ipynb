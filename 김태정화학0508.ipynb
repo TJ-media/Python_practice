{
  "nbformat": 4,
  "nbformat_minor": 0,
  "metadata": {
    "colab": {
      "provenance": []
    },
    "kernelspec": {
      "name": "python3",
      "display_name": "Python 3"
    },
    "language_info": {
      "name": "python"
    }
  },
  "cells": [
    {
      "cell_type": "markdown",
      "source": [
        "chapter10 연습문제\n",
        "1. 5\n",
        "2. 코드실행\n",
        "3. 코드실행\n",
        "4. 2\n",
        "5. 3\n",
        "6. 5\n",
        "7. 4\n",
        "8. 코드실행\n",
        "9. 5\n",
        "10. if __name__ == '__main__' #메인함수 선언\n",
        "11. 4\n",
        "12.\n"
      ],
      "metadata": {
        "id": "_HQPfsGO7Lz7"
      }
    },
    {
      "cell_type": "code",
      "execution_count": null,
      "metadata": {
        "colab": {
          "base_uri": "https://localhost:8080/"
        },
        "id": "UQ-xnKJ0qy9M",
        "outputId": "36dc8859-a0ff-4cd9-f57a-ec2bcd793d69"
      },
      "outputs": [
        {
          "output_type": "stream",
          "name": "stdout",
          "text": [
            "Your password is : 5678\n",
            "Password changed\n"
          ]
        }
      ],
      "source": [
        "#1번 문제\n",
        "class Bit(object):\n",
        "    def __init__(self):\n",
        "        self.__password = 5678\n",
        "\n",
        "    def set_password(self,  new_pw):\n",
        "        self.__password = new_pw\n",
        "        print('Password changed')\n",
        "\n",
        "    def get_password(self):\n",
        "        print('Your password is :', self.__password)\n",
        "\n",
        "coin = Bit()\n",
        "coin.get_password()\n",
        "coin.set_password(1234)\n",
        "#print(coin.__password)"
      ]
    },
    {
      "cell_type": "code",
      "source": [
        "#2번 문제\n",
        "class Company:\n",
        "    def __init__(self):\n",
        "        self.work = True\n",
        "        self.name = 'Jane'\n",
        "        self.gender = 'woman'\n",
        "\n",
        "    def retire(self):\n",
        "        self.work = False\n",
        "\n",
        "class Employee(Company):\n",
        "    def __init__(self, name, gender):\n",
        "        super().__init__()\n",
        "        self.name = name\n",
        "        self.gender = gender\n",
        "\n",
        "    def introduce(self):\n",
        "        if self.work == True:\n",
        "            print('I got a job at a company')\n",
        "            print('My name is', self.name)\n",
        "            print('I am a', self.gender)\n",
        "        if self.work == False:\n",
        "            print('I left the company')\n",
        "\n",
        "\n",
        "\n",
        "em = Employee('James', 'man')\n",
        "print(em.name)\n",
        "print(em.gender)\n",
        "em.retire() #False\n",
        "em.introduce()\n",
        "Employee('James', 'man').introduce()"
      ],
      "metadata": {
        "colab": {
          "base_uri": "https://localhost:8080/"
        },
        "id": "fx5ydZeq0OH7",
        "outputId": "be4dc265-b170-4d6c-bd64-21bee79f0675"
      },
      "execution_count": null,
      "outputs": [
        {
          "output_type": "stream",
          "name": "stdout",
          "text": [
            "James\n",
            "man\n",
            "I left the company\n",
            "I got a job at a company\n",
            "My name is James\n",
            "I am a man\n"
          ]
        }
      ]
    },
    {
      "cell_type": "code",
      "source": [
        "#3번 문제\n",
        "class Person(object):\n",
        "    def __init__(self, name):\n",
        "        self.name = name\n",
        "\n",
        "    def language(self):\n",
        "        pass\n",
        "\n",
        "class Earthling(Person):\n",
        "    def language(self, lang):\n",
        "        return lang\n",
        "\n",
        "class Groot(Person):\n",
        "    def language(self, lang):\n",
        "        return \"I'm Groot!\"\n",
        "\n",
        "name = ['Hanbit', 'Dr.Strange', 'Groot']\n",
        "country = ['Korea', 'USA', 'Galaxy']\n",
        "lang = ['Korean', 'English', 'Groot']\n",
        "\n",
        "for idx, n in enumerate(name):  #(0, 'Hanbit'), (1, 'Dr.strange')\n",
        "    if country[idx].upper() != 'GALAXY':  #country[0] == 'KOREA', country[1] == 'USA', country[2] == 'GALAXY'\n",
        "        person = Earthling(n)\n",
        "        print(person.language(lang[idx]))  #lang[0] == 'Korean', lang[1] == 'English'\n",
        "    else:\n",
        "        groot = Groot(name)\n",
        "        print(groot.language(lang[idx]))"
      ],
      "metadata": {
        "colab": {
          "base_uri": "https://localhost:8080/"
        },
        "id": "XgCN2Sik4FjE",
        "outputId": "d9fd483e-8395-4b27-c678-9f04bcb7d228"
      },
      "execution_count": null,
      "outputs": [
        {
          "output_type": "stream",
          "name": "stdout",
          "text": [
            "Korean\n",
            "English\n",
            "I'm Groot!\n"
          ]
        }
      ]
    },
    {
      "cell_type": "code",
      "source": [
        "#4번 문제\n",
        "class SoccerPlayer(object):\n",
        "    def __init__(self, name, position, back_number):\n",
        "        self.name = name\n",
        "        self.position = position\n",
        "        self.back_number = back_number\n",
        "\n",
        "    def change_back_number(self, new_number):\n",
        "        print('등번호 변경 %d -> %d' %(self.back_number, new_number))\n",
        "        self.back_number = new_number\n",
        "\n",
        "jinhyun = SoccerPlayer('Jinhyun', 'MF', 10)\n",
        "print('현재 진현 등번호 :', jinhyun.back_number)\n",
        "jinhyun.change_back_number(5)"
      ],
      "metadata": {
        "colab": {
          "base_uri": "https://localhost:8080/"
        },
        "id": "0o3wcP1i59S8",
        "outputId": "224ffc22-4102-4aa2-a614-36c77cd1e8c0"
      },
      "execution_count": null,
      "outputs": [
        {
          "output_type": "stream",
          "name": "stdout",
          "text": [
            "현재 진현 등번호 : 10\n",
            "등번호 변경 10 -> 5\n"
          ]
        }
      ]
    },
    {
      "cell_type": "code",
      "source": [
        "#6번 문제\n",
        "class Marvel(object):\n",
        "    def __init__(self, name, characteristic):\n",
        "        self.name = name\n",
        "        self.characteristic = characteristic\n",
        "\n",
        "    def __str__(self):\n",
        "        return 'My name is {0} and my weapon is {1}.'.format(\n",
        "            self.name, self.characteristic)\n",
        "\n",
        "class Villain(Marvel):\n",
        "    pass\n",
        "\n",
        "first_villain = Villain('Thanos', 'infinity gauntlet')\n",
        "print(first_villain)"
      ],
      "metadata": {
        "colab": {
          "base_uri": "https://localhost:8080/"
        },
        "id": "yj65PkeE6W01",
        "outputId": "f2ed4232-d53b-45f2-b2e7-d1b7c836b830"
      },
      "execution_count": null,
      "outputs": [
        {
          "output_type": "stream",
          "name": "stdout",
          "text": [
            "My name is Thanos and my weapon is infinity gauntlet.\n"
          ]
        }
      ]
    },
    {
      "cell_type": "code",
      "source": [
        "#8번 문제\n",
        "class TV(object):\n",
        "    def __init__(self, size, year, company):\n",
        "        self.size = size\n",
        "        self.year = year\n",
        "        self.company = company\n",
        "\n",
        "    def describe(self):\n",
        "        print(self.company + '에서 만든 ' + self.year + '년형 ' + self.size + '인치 ' + 'TV')\n",
        "\n",
        "class Laptop(TV):\n",
        "    def describe(self):\n",
        "        print(self.company + '에서 만든 ' + self.year + '년형 ' + self.size + '인치 ' + '노트북')\n",
        "\n",
        "LG_TV = TV('32', '2022', 'LG')\n",
        "LG_TV.describe()\n",
        "\n",
        "samsung_microwave = Laptop('15', '2023', 'samsung')\n",
        "samsung_microwave.describe()"
      ],
      "metadata": {
        "colab": {
          "base_uri": "https://localhost:8080/"
        },
        "id": "rdHi6iAA7mt3",
        "outputId": "ea5de90b-cdf6-44f4-8332-f359d742adc7"
      },
      "execution_count": null,
      "outputs": [
        {
          "output_type": "stream",
          "name": "stdout",
          "text": [
            "LG에서 만든 2022년형 32인치 TV\n",
            "samsung에서 만든 2023년형 15인치 노트북\n"
          ]
        }
      ]
    },
    {
      "cell_type": "code",
      "source": [
        "#10번 문제\n",
        "class Person:\n",
        "    def __init__(self, name, age, position):\n",
        "        self.Name = name\n",
        "        self.Age = age\n",
        "        self.Position = position\n",
        "\n",
        "    def show_info(self):\n",
        "        print('이름 : {0}'.format(self.Name))\n",
        "        print('나이 : {0}'.format(self.Age))\n",
        "        print('직위 : {0}'.format(self.Position))\n",
        "        print('저는 한빛대학교 {0}{1}입니다. 나이는 {2}입니다.'.format(self.Position, self.Name, self.Age))\n",
        "class Researcher(Person):\n",
        "    def __init__(self, name, age, position, degree):\n",
        "        Person.__init__(self, name, age, position)\n",
        "        self.Degree = degree\n",
        "    def show_info(self):\n",
        "        Person.show_info(self)\n",
        "        print('저는 {0}입니다.'.format(self.Degree))\n",
        "if __name__ == '__main__':\n",
        "    researcher_john = Researcher('John', '22', '연구원', '학사')\n",
        "    researcher_tedd = Researcher('Tedd', '40', '소장', '박사')\n",
        "    researcher_john.show_info()\n",
        "    researcher_tedd.show_info()"
      ],
      "metadata": {
        "id": "Ro2hl4a0D76Q",
        "colab": {
          "base_uri": "https://localhost:8080/"
        },
        "outputId": "d043efb3-75f8-4162-bb47-66e1fe195e96"
      },
      "execution_count": null,
      "outputs": [
        {
          "output_type": "stream",
          "name": "stdout",
          "text": [
            "이름 : John\n",
            "나이 : 22\n",
            "직위 : 연구원\n",
            "저는 한빛대학교 연구원John입니다. 나이는 22입니다.\n",
            "저는 학사입니다.\n",
            "이름 : Tedd\n",
            "나이 : 40\n",
            "직위 : 소장\n",
            "저는 한빛대학교 소장Tedd입니다. 나이는 40입니다.\n",
            "저는 박사입니다.\n"
          ]
        }
      ]
    },
    {
      "cell_type": "code",
      "source": [
        "#11번 문제\n",
        "class Terran(object):\n",
        "    def __init__(self, mineral):\n",
        "        self.scv = 4\n",
        "        self.marine = 0\n",
        "        self.medic = 0\n",
        "        self.mineral = mineral           #50\n",
        "\n",
        "    def command(self, SCV = False):\n",
        "        self.mineral += 8*self.scv       #50 + 32 = 82\n",
        "        if SCV:\n",
        "            self.scv += 1\n",
        "            self.mineral -= 10           #82 - 10 = 72\n",
        "\n",
        "    def barrack(self, Marine = False, Medic = False):\n",
        "        self.mineral += 8*self.scv       #72 + 40 = 112\n",
        "        if Marine:\n",
        "            self.marine += 1\n",
        "            self.mineral -= 15           #112 - 15 = 97\n",
        "        if Medic:\n",
        "            self.medic += 1\n",
        "            self.mineral -= 25           #97 - 25 = 72\n",
        "\n",
        "    def check_source(self):\n",
        "        print('Mineral : ' + str(self.mineral))\n",
        "\n",
        "\n",
        "User = Terran(50)\n",
        "User.command(True)\n",
        "User.barrack(True, True)\n",
        "User.check_source()"
      ],
      "metadata": {
        "colab": {
          "base_uri": "https://localhost:8080/"
        },
        "id": "BVM_rgYy9sll",
        "outputId": "55f9a438-3520-454e-c377-211c0ad86737"
      },
      "execution_count": null,
      "outputs": [
        {
          "output_type": "stream",
          "name": "stdout",
          "text": [
            "Mineral : 72\n"
          ]
        }
      ]
    },
    {
      "cell_type": "code",
      "source": [
        "#12번 문제\n",
        "class IceCream(object):\n",
        "    def __init__(self, flavor):\n",
        "        self.flavor = flavor\n",
        "\n",
        "    def change_flavor(self, new_flavor):\n",
        "        print('아이스크림을 %s에서 %s로 변경해주세요' %(self.flavor, new_flavor))\n",
        "        self.flavor = new_flavor\n",
        "ice_cream = IceCream('레인보우 샤베트')\n",
        "ice_cream.change_flavor('바람과 함께 사라지다')"
      ],
      "metadata": {
        "colab": {
          "base_uri": "https://localhost:8080/"
        },
        "id": "eSXYu1mBBMGW",
        "outputId": "b40ad3cf-9d64-45c3-8a6c-c60a81a78b48"
      },
      "execution_count": null,
      "outputs": [
        {
          "output_type": "stream",
          "name": "stdout",
          "text": [
            "아이스크림을 레인보우 샤베트에서 바람과 함께 사라지다로 변경해주세요\n",
            "아이스크림 맛을 바람과 함께 사라지다로 변경해드렸어요\n"
          ]
        }
      ]
    },
    {
      "cell_type": "markdown",
      "source": [
        "12장 연습문제\n",
        "3. 3\n",
        "4. 4\n",
        "5. 4 문법적 오류\n",
        "9. 1\n",
        "10. 2"
      ],
      "metadata": {
        "id": "fkUsKqvXCRUe"
      }
    },
    {
      "cell_type": "code",
      "source": [
        "import sys\n",
        "print(sys.getsizeof(''))\n",
        "print(sys.getsizeof('a'))\n",
        "print(sys.getsizeof('ab'))\n",
        "print(sys.getsizeof('abc'))"
      ],
      "metadata": {
        "colab": {
          "base_uri": "https://localhost:8080/"
        },
        "id": "zIgrj78BGW7A",
        "outputId": "b32983db-b167-4048-d675-839d9b7f0c37"
      },
      "execution_count": null,
      "outputs": [
        {
          "output_type": "stream",
          "name": "stdout",
          "text": [
            "49\n",
            "50\n",
            "51\n",
            "52\n"
          ]
        }
      ]
    },
    {
      "cell_type": "code",
      "source": [
        "title = 'TEAMLAB X Inflearn'\n",
        "print(title.upper())  #모두 대문자\n",
        "print(title.lower())  #모두 소문자\n",
        "print(len(title))  #문자열 길이 반환"
      ],
      "metadata": {
        "colab": {
          "base_uri": "https://localhost:8080/"
        },
        "id": "OAf8Lb1qJqoR",
        "outputId": "543da8b5-88ae-4591-e55b-412ef5e9cdb4"
      },
      "execution_count": null,
      "outputs": [
        {
          "output_type": "stream",
          "name": "stdout",
          "text": [
            "TEAMLAB X INFLEARN\n",
            "teamlab x inflearn\n",
            "18\n"
          ]
        }
      ]
    },
    {
      "cell_type": "code",
      "source": [
        "text1 = 'python is fun'\n",
        "print(text1.title())  #단어 첫글자 대문자\n",
        "print(text1.capitalize())  #문자열 첫글자 대문자\n",
        "\n",
        "print('-'*30)\n",
        "\n",
        "print(text1.count('n'))  #n 개수 반환\n",
        "print(text1.find('n'))  #첫번째 n위치 반환\n",
        "print(text1.rfind('n'))  #마지막 n위치 반환\n",
        "\n",
        "print('-'*30)\n",
        "\n",
        "print(text1.startswith('p'))  #p로 시작하면 True 아니면 Fasle\n",
        "print(text1.startswith('y'))\n",
        "\n",
        "print('-'*30)\n",
        "\n",
        "print(text1.endswith('n'))  #n으로 끝나면 True 아니면 Flase\n",
        "print(text1.endswith('u'))"
      ],
      "metadata": {
        "colab": {
          "base_uri": "https://localhost:8080/"
        },
        "id": "lje9XA1hKSus",
        "outputId": "82ce8004-929c-4a3f-f2fb-a89622e80eba"
      },
      "execution_count": null,
      "outputs": [
        {
          "output_type": "stream",
          "name": "stdout",
          "text": [
            "Python Is Fun\n",
            "Python is fun\n",
            "------------------------------\n",
            "2\n",
            "5\n",
            "12\n",
            "------------------------------\n",
            "True\n",
            "False\n",
            "------------------------------\n",
            "True\n",
            "False\n"
          ]
        }
      ]
    },
    {
      "cell_type": "code",
      "source": [
        "text2 = '      elephant         '\n",
        "print(text2)\n",
        "print(text2.strip())  #공백 제거\n",
        "print(text2.rstrip())  #오른쪽 공백 제거\n",
        "print(text2.lstrip())  #왼쪽 공백 제거"
      ],
      "metadata": {
        "colab": {
          "base_uri": "https://localhost:8080/"
        },
        "id": "GSjDCN-ZKmHh",
        "outputId": "b8964210-a8f6-46ee-d65b-a08341d09e88"
      },
      "execution_count": null,
      "outputs": [
        {
          "output_type": "stream",
          "name": "stdout",
          "text": [
            "      elephant         \n",
            "elephant\n",
            "      elephant\n",
            "elephant         \n"
          ]
        }
      ]
    },
    {
      "cell_type": "code",
      "source": [
        "text1 = 'python is fun'\n",
        "print(text1.split())  #공백 기준으로 나눠서 리스트로 반환\n",
        "\n",
        "text3 = 'python,is,fun'\n",
        "print(text3.split(','))  #','기준으로 나눠서 리스트로 반환"
      ],
      "metadata": {
        "colab": {
          "base_uri": "https://localhost:8080/"
        },
        "id": "k3uMLPdVMoby",
        "outputId": "5356c6b9-f6b5-457a-9041-f17dc71d65e5"
      },
      "execution_count": null,
      "outputs": [
        {
          "output_type": "stream",
          "name": "stdout",
          "text": [
            "['python', 'is', 'fun']\n",
            "['python', 'is', 'fun']\n"
          ]
        }
      ]
    },
    {
      "cell_type": "code",
      "source": [
        "text11 = 'python'\n",
        "print(text11.isdigit())  #문자열이 숫자면 True\n",
        "print(text11.isalpha())  #문자열이 문자면 True\n",
        "print(text11.isalnum())  #문자열이 숫자면 True\n",
        "print(text11.islower())  #문자열이 소문자면 True\n",
        "print(text11.isupper())  #문자열이 대문자면 True"
      ],
      "metadata": {
        "colab": {
          "base_uri": "https://localhost:8080/"
        },
        "id": "Zm5LudnKNhjT",
        "outputId": "2de65aed-8614-4b91-8e3f-782e66ba228e"
      },
      "execution_count": null,
      "outputs": [
        {
          "output_type": "stream",
          "name": "stdout",
          "text": [
            "False\n",
            "True\n",
            "True\n",
            "True\n",
            "False\n"
          ]
        }
      ]
    }
  ]
}