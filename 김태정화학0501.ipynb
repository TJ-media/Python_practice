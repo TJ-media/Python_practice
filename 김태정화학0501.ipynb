{
  "nbformat": 4,
  "nbformat_minor": 0,
  "metadata": {
    "colab": {
      "provenance": [],
      "mount_file_id": "18LtAK3pQrN4KL61qbmcTsPRQbICZpiTL",
      "authorship_tag": "ABX9TyMC1oSLicOGN/rmQAsK0SwS"
    },
    "kernelspec": {
      "name": "python3",
      "display_name": "Python 3"
    },
    "language_info": {
      "name": "python"
    }
  },
  "cells": [
    {
      "cell_type": "code",
      "execution_count": null,
      "metadata": {
        "id": "NiXq_-Pun0S-",
        "colab": {
          "base_uri": "https://localhost:8080/"
        },
        "outputId": "8925f726-8951-4556-8702-ea132a7ec5e8"
      },
      "outputs": [
        {
          "output_type": "stream",
          "name": "stdout",
          "text": [
            "org\n",
            "blu\n",
            "yel\n",
            "['org', 'blu', 'yel']\n",
            "(['org', 'blu', 'yel', 'purple'], <class 'list'>)\n",
            "['org', 'blu', 'yel', 'purple']\n"
          ]
        }
      ],
      "source": [
        "#중간고사 1번문제\n",
        "colorList =[]\n",
        "for i in range(3):\n",
        "    colorList.append(input())\n",
        "print(colorList)\n",
        "\n",
        "def myfunc(colors):\n",
        "    if 'purple' not in colors:\n",
        "        colors.append('purple')\n",
        "    else:\n",
        "        colors = ['green', 'blue']\n",
        "    return colors, type(colors)\n",
        "\n",
        "print(myfunc(colorList))\n",
        "print(colorList)"
      ]
    },
    {
      "cell_type": "code",
      "source": [
        "#중간고사 2번문제\n",
        "num = int(input())\n",
        "for i in range(1, num+1):\n",
        "    if i % 7 == 0:\n",
        "        print(i)\n",
        "        continue\n",
        "\n",
        "while True:\n",
        "    a = num // 10\n",
        "    b = num % 10\n",
        "    print(a+b)\n",
        "    break\n"
      ],
      "metadata": {
        "id": "9_zuBOWmsDZi"
      },
      "execution_count": null,
      "outputs": []
    },
    {
      "cell_type": "code",
      "source": [
        "class SoccerPlayer(object):\n",
        "    def __init__(self, name, position, back_number):\n",
        "        self.name = name\n",
        "        self.position = position\n",
        "        self.back_number = back_number\n",
        "\n",
        "jinhyun = SoccerPlayer('Jinhyun', 'MF', 10)"
      ],
      "metadata": {
        "id": "erux60qMueZC"
      },
      "execution_count": null,
      "outputs": []
    },
    {
      "cell_type": "code",
      "source": [
        "class SoccerPlayer(object):\n",
        "    def change_back_number(self, new_number):\n",
        "        print('등번호 변경 %d -> %d' %(self.back_number, new_number))\n",
        "        self.back_number = new_number"
      ],
      "metadata": {
        "id": "ftQjheVUxdOi"
      },
      "execution_count": null,
      "outputs": []
    },
    {
      "cell_type": "code",
      "source": [
        "class SoccerPlayer(object):\n",
        "    def __init__(self, name, position, back_number):\n",
        "        self.name = name\n",
        "        self.position = position\n",
        "        self.back_number = back_number\n",
        "    def change_back_number(self, new_number):\n",
        "        print('등번호 변경 %d -> %d' %(self.back_number, new_number))\n",
        "        self.back_number = new_number\n",
        "\n",
        "jinhyun = SoccerPlayer('Jinhyun', 'MF', 10)\n",
        "gildong = SoccerPlayer('Gildong', 'FW', 20)\n",
        "\n",
        "print('현재 진현 등번호 :', jinhyun.back_number)\n",
        "jinhyun.change_back_number(15)\n",
        "print('바뀐 진현 등번호', jinhyun.back_number)\n",
        "\n",
        "print('길동 포지션 :', gildong.position)\n",
        "gildong.change_back_number(2)\n",
        "print('길동 등번호 :', gildong.back_number)"
      ],
      "metadata": {
        "colab": {
          "base_uri": "https://localhost:8080/"
        },
        "id": "IL4T73yPxdKS",
        "outputId": "2de1c72c-1c2b-4635-d948-207ac562dac6"
      },
      "execution_count": null,
      "outputs": [
        {
          "output_type": "stream",
          "name": "stdout",
          "text": [
            "현재 진현 등번호 : 10\n",
            "등번호 변경 10 -> 15\n",
            "바뀐 진현 등번호 15\n",
            "길동 포지션 : FW\n",
            "등번호 변경 20 -> 2\n",
            "길동 등번호 : 2\n"
          ]
        }
      ]
    },
    {
      "cell_type": "code",
      "source": [
        "#오류발생\n",
        "class SoccerPlayer(object):\n",
        "    def __init__(self, name, position, back_number):\n",
        "        self.name = name\n",
        "        self.position = position\n",
        "        self.back_number = back_number\n",
        "    def change_back_number(self, new_number):\n",
        "        print('등번호 변경 %d -> %d' %(self.back_number, new_number))\n",
        "        self.back_number = new_number\n",
        "\n",
        "jinhyun = SoccerPlayer('Jinhyun', 10) #init에 전달되는 인자가 한개 부족함\n",
        "print('현재 진현 등번호 :', jinhyun.back_number)"
      ],
      "metadata": {
        "colab": {
          "base_uri": "https://localhost:8080/",
          "height": 229
        },
        "id": "go3RjU171bF0",
        "outputId": "94cf9acb-71dc-454f-dc6b-09e226698da2"
      },
      "execution_count": null,
      "outputs": [
        {
          "output_type": "error",
          "ename": "TypeError",
          "evalue": "ignored",
          "traceback": [
            "\u001b[0;31m---------------------------------------------------------------------------\u001b[0m",
            "\u001b[0;31mTypeError\u001b[0m                                 Traceback (most recent call last)",
            "\u001b[0;32m<ipython-input-12-f41a6cdf30ad>\u001b[0m in \u001b[0;36m<cell line: 11>\u001b[0;34m()\u001b[0m\n\u001b[1;32m      9\u001b[0m         \u001b[0mself\u001b[0m\u001b[0;34m.\u001b[0m\u001b[0mback_number\u001b[0m \u001b[0;34m=\u001b[0m \u001b[0mnew_number\u001b[0m\u001b[0;34m\u001b[0m\u001b[0;34m\u001b[0m\u001b[0m\n\u001b[1;32m     10\u001b[0m \u001b[0;34m\u001b[0m\u001b[0m\n\u001b[0;32m---> 11\u001b[0;31m \u001b[0mjinhyun\u001b[0m \u001b[0;34m=\u001b[0m \u001b[0mSoccerPlayer\u001b[0m\u001b[0;34m(\u001b[0m\u001b[0;34m'Jinhyun'\u001b[0m\u001b[0;34m,\u001b[0m \u001b[0;36m10\u001b[0m\u001b[0;34m)\u001b[0m\u001b[0;34m\u001b[0m\u001b[0;34m\u001b[0m\u001b[0m\n\u001b[0m\u001b[1;32m     12\u001b[0m \u001b[0mprint\u001b[0m\u001b[0;34m(\u001b[0m\u001b[0;34m'현재 진현 등번호 :'\u001b[0m\u001b[0;34m,\u001b[0m \u001b[0mjinhyun\u001b[0m\u001b[0;34m.\u001b[0m\u001b[0mback_number\u001b[0m\u001b[0;34m)\u001b[0m\u001b[0;34m\u001b[0m\u001b[0;34m\u001b[0m\u001b[0m\n",
            "\u001b[0;31mTypeError\u001b[0m: SoccerPlayer.__init__() missing 1 required positional argument: 'back_number'"
          ]
        }
      ]
    },
    {
      "cell_type": "code",
      "source": [
        "class SoccerPlayer(object):\n",
        "    def __init__(self, name, position, back_number):\n",
        "        self.name = name\n",
        "        self.position = position\n",
        "        self.back_number = back_number\n",
        "    def change_back_number(self, new_number):\n",
        "        print('등번호 변경 %d -> %d' %(self.back_number, new_number))\n",
        "        self.back_number = new_number\n",
        "    def __str__(self):\n",
        "        return 'Hello. My name is %s. I play in %s in center' %(self.name, self.position)\n",
        "\n",
        "jinhyun = SoccerPlayer('Jinhyun', 'MF', 10)\n",
        "print(jinhyun)\n",
        "gildong = SoccerPlayer('Gildong', 'FW', 20)\n",
        "print(gildong)"
      ],
      "metadata": {
        "colab": {
          "base_uri": "https://localhost:8080/"
        },
        "id": "LCfm5tnS5OSM",
        "outputId": "63e0829a-5807-495f-f512-ffa4d483c683"
      },
      "execution_count": null,
      "outputs": [
        {
          "output_type": "stream",
          "name": "stdout",
          "text": [
            "Hello. My name is Jinhyun. I play in MF in center\n",
            "Hello. My name is Gildong. I play in FW in center\n"
          ]
        }
      ]
    },
    {
      "cell_type": "code",
      "source": [
        "#enumerate\n",
        "names = ['Messi', 'Ramos', 'Ronaldo', 'Park', 'Buffon']\n",
        "positions = ['MF', 'DF', 'CF', 'WF', 'GK']\n",
        "numbers = [10, 4, 7, 13, 1]\n",
        "\n",
        "for o, s in enumerate(positions):\n",
        "    print(o, s)"
      ],
      "metadata": {
        "colab": {
          "base_uri": "https://localhost:8080/"
        },
        "id": "aInvPy5b6bSl",
        "outputId": "ec5ea957-1112-40bb-c1a1-9307ba58280f"
      },
      "execution_count": null,
      "outputs": [
        {
          "output_type": "stream",
          "name": "stdout",
          "text": [
            "0 MF\n",
            "1 DF\n",
            "2 CF\n",
            "3 WF\n",
            "4 GK\n"
          ]
        }
      ]
    },
    {
      "cell_type": "code",
      "source": [
        "#zip\n",
        "names = ['Messi', 'Ramos', 'Ronaldo', 'Park', 'Buffon']\n",
        "positions = ['MF', 'DF', 'CF', 'WF', 'GK']\n",
        "numbers = [10, 4, 7, 13, 1]\n",
        "\n",
        "for o, s, t in zip(names, positions, numbers):\n",
        "    print(o, s, t)"
      ],
      "metadata": {
        "colab": {
          "base_uri": "https://localhost:8080/"
        },
        "id": "Npsm-GEA7pht",
        "outputId": "946c1600-0336-4f7a-b184-a73280b0411c"
      },
      "execution_count": null,
      "outputs": [
        {
          "output_type": "stream",
          "name": "stdout",
          "text": [
            "Messi MF 10\n",
            "Ramos DF 4\n",
            "Ronaldo CF 7\n",
            "Park WF 13\n",
            "Buffon GK 1\n"
          ]
        }
      ]
    },
    {
      "cell_type": "code",
      "source": [
        "#2차원 리스트\n",
        "names = ['Messi', 'Ramos', 'Ronaldo', 'Park', 'Buffon']\n",
        "positions = ['MF', 'DF', 'CF', 'WF', 'GK']\n",
        "numbers = [10, 4, 7, 13, 1]\n",
        "\n",
        "players = [[name, position, number] for name, position, number in zip(names, positions, numbers)]\n",
        "print(players)\n",
        "print(players[0])"
      ],
      "metadata": {
        "colab": {
          "base_uri": "https://localhost:8080/"
        },
        "id": "vKG6E07f7yre",
        "outputId": "4b587513-41c3-481c-fcd3-e5e051dbdf81"
      },
      "execution_count": null,
      "outputs": [
        {
          "output_type": "stream",
          "name": "stdout",
          "text": [
            "[['Messi', 'MF', 10], ['Ramos', 'DF', 4], ['Ronaldo', 'CF', 7], ['Park', 'WF', 13], ['Buffon', 'GK', 1]]\n",
            "['Messi', 'MF', 10]\n"
          ]
        }
      ]
    },
    {
      "cell_type": "code",
      "source": [
        "names = ['Messi', 'Ramos', 'Ronaldo', 'Park', 'Buffon']\n",
        "positions = ['MF', 'DF', 'CF', 'WF', 'GK']\n",
        "numbers = [10, 4, 7, 13, 1]\n",
        "\n",
        "class SoccerPlayer(object):\n",
        "    def __init__(self, name, position, back_number):\n",
        "        self.name = name\n",
        "        self.position = position\n",
        "        self.back_number = back_number\n",
        "    def change_back_number(self, new_number):\n",
        "        print('등번호 변경 %d -> %d' %(self.back_number, new_number))\n",
        "        self.back_number = new_number\n",
        "    def __str__(self):\n",
        "        return 'Hello. My name is %s. I play in %s in center' %(self.name, self.position)\n",
        "\n",
        "player_object = [SoccerPlayer(name, position, number) for name, position, number in zip(names, positions, numbers)]\n",
        "print(player_object[0])\n",
        "print(player_object[1])"
      ],
      "metadata": {
        "colab": {
          "base_uri": "https://localhost:8080/"
        },
        "id": "ncr6wSvf8uw2",
        "outputId": "d5ea2fe8-e675-49ee-db45-be0b29e6c605"
      },
      "execution_count": null,
      "outputs": [
        {
          "output_type": "stream",
          "name": "stdout",
          "text": [
            "Hello. My name is Messi. I play in MF in center\n",
            "Hello. My name is Ramos. I play in DF in center\n"
          ]
        }
      ]
    },
    {
      "cell_type": "code",
      "source": [
        "#상속\n",
        "class Person(object):\n",
        "    def __init__(self, name, age):\n",
        "        self.name = name\n",
        "        self.age = age\n",
        "\n",
        "class Korean(Person):\n",
        "    pass\n",
        "\n",
        "first_korean = Korean('태정', 25)"
      ],
      "metadata": {
        "id": "xSpFW0e6-N37"
      },
      "execution_count": null,
      "outputs": []
    },
    {
      "cell_type": "markdown",
      "source": [
        "# 파일 입출력"
      ],
      "metadata": {
        "id": "OWSHvu8KDbEu"
      }
    },
    {
      "cell_type": "code",
      "source": [
        "dir = '/content/drive/MyDrive/Colab Notebooks/고급파이썬/phones.txt'\n",
        "f = open(dir, 'r')\n",
        "contents = f.read()\n",
        "print(contents)\n",
        "f.close()"
      ],
      "metadata": {
        "colab": {
          "base_uri": "https://localhost:8080/"
        },
        "id": "X260pB7WDX-_",
        "outputId": "e21f17be-da79-46c3-8547-d08f2da66bf6"
      },
      "execution_count": null,
      "outputs": [
        {
          "output_type": "stream",
          "name": "stdout",
          "text": [
            "허현 010-8612-1501\n",
            "박진형 010-7150-1794\n",
            "김지성 010-3376-7077\n",
            "\n"
          ]
        }
      ]
    },
    {
      "cell_type": "code",
      "source": [
        "#read()\n",
        "dir = '/content/drive/MyDrive/Colab Notebooks/고급파이썬/phones.txt'\n",
        "with open(dir, 'r') as f:\n",
        "    contents = f.read()\n",
        "    print(type(contents), contents)\n",
        "f.close()"
      ],
      "metadata": {
        "colab": {
          "base_uri": "https://localhost:8080/"
        },
        "id": "Gx4bJ-XGH5g3",
        "outputId": "e5458fb9-ef2b-4b93-fa1d-63d170160759"
      },
      "execution_count": null,
      "outputs": [
        {
          "output_type": "stream",
          "name": "stdout",
          "text": [
            "<class 'str'> 허현 010-8612-1501\n",
            "박진형 010-7150-1794\n",
            "김지성 010-3376-7077\n",
            "\n"
          ]
        }
      ]
    },
    {
      "cell_type": "code",
      "source": [
        "#readlines() - list자료형\n",
        "dir = '/content/drive/MyDrive/Colab Notebooks/고급파이썬/phones.txt'\n",
        "with open(dir, 'r') as f:\n",
        "    contents = f.readlines()\n",
        "    print(type(contents), contents)\n",
        "f.close()"
      ],
      "metadata": {
        "colab": {
          "base_uri": "https://localhost:8080/"
        },
        "id": "ang62HdGIdTX",
        "outputId": "7252815c-817a-41ab-e311-899066c44aa4"
      },
      "execution_count": null,
      "outputs": [
        {
          "output_type": "stream",
          "name": "stdout",
          "text": [
            "<class 'list'> ['허현 010-8612-1501\\n', '박진형 010-7150-1794\\n', '김지성 010-3376-7077\\n']\n"
          ]
        }
      ]
    },
    {
      "cell_type": "code",
      "source": [
        "dir = '/content/drive/MyDrive/Colab Notebooks/고급파이썬/phones.txt'\n",
        "with open(dir, 'r') as f:\n",
        "    i = 0\n",
        "    while 1:\n",
        "        contents = f.readline()\n",
        "        if not contents:\n",
        "            break\n",
        "        print(str(i) + ' = ' + contents.replace('\\n',''))\n",
        "        i += 1\n",
        "f.close()"
      ],
      "metadata": {
        "colab": {
          "base_uri": "https://localhost:8080/"
        },
        "id": "jR7JWI8YJflx",
        "outputId": "b64f6c3d-b588-4a44-8f46-ba715dd2ba56"
      },
      "execution_count": null,
      "outputs": [
        {
          "output_type": "stream",
          "name": "stdout",
          "text": [
            "0 = 허현 010-8612-1501\n",
            "1 = 박진형 010-7150-1794\n",
            "2 = 김지성 010-3376-7077\n"
          ]
        }
      ]
    },
    {
      "cell_type": "code",
      "source": [
        "dir = '/content/drive/MyDrive/Colab Notebooks/고급파이썬/phones.txt'\n",
        "with open(dir, 'r') as f:\n",
        "    contents = f.read()\n",
        "    word_list = contents.split(' ')\n",
        "    line_list = contents.split('\\n')\n",
        "print(len(contents))\n",
        "print(word_list)\n",
        "print(len(word_list))\n",
        "print(line_list)\n",
        "print(len(line_list))"
      ],
      "metadata": {
        "colab": {
          "base_uri": "https://localhost:8080/"
        },
        "id": "XlA0J8TKKyGA",
        "outputId": "f5b76cdf-b37e-4e45-b71c-308d4211470d"
      },
      "execution_count": null,
      "outputs": [
        {
          "output_type": "stream",
          "name": "stdout",
          "text": [
            "53\n",
            "['허현', '010-8612-1501\\n박진형', '010-7150-1794\\n김지성', '010-3376-7077\\n']\n",
            "4\n",
            "['허현 010-8612-1501', '박진형 010-7150-1794', '김지성 010-3376-7077', '']\n",
            "4\n"
          ]
        }
      ]
    },
    {
      "cell_type": "code",
      "source": [
        "a = [[1,2,3,5], [1,2,3,4]]\n",
        "b = [[40,40], [30,30], [20,20], [10,10]]\n",
        "print([[sum([t[0]*t[1] for t in zip(i,j)]) for j in zip(*b)] for i in a])"
      ],
      "metadata": {
        "colab": {
          "base_uri": "https://localhost:8080/"
        },
        "id": "0m0b7cqV2YXJ",
        "outputId": "e08cbdce-d274-4fda-9deb-79b8ebdeb3ca"
      },
      "execution_count": null,
      "outputs": [
        {
          "output_type": "stream",
          "name": "stdout",
          "text": [
            "[[210, 210], [200, 200]]\n"
          ]
        }
      ]
    },
    {
      "cell_type": "code",
      "source": [
        "def tr(t_list):\n",
        "    print([row for row in zip(*t_list)])\n",
        "tr([[1,4,7], [2,5,8], [3,6,9]])"
      ],
      "metadata": {
        "colab": {
          "base_uri": "https://localhost:8080/"
        },
        "id": "mJWc-eZ_6yO_",
        "outputId": "231b3864-f15d-4057-fed9-64782646836f"
      },
      "execution_count": null,
      "outputs": [
        {
          "output_type": "stream",
          "name": "stdout",
          "text": [
            "[(1, 2, 3), (4, 5, 6), (7, 8, 9)]\n"
          ]
        }
      ]
    },
    {
      "cell_type": "code",
      "source": [
        "data_info = {'year' : '2019', 'month' : '9', 'day' : '6'}\n",
        "result = '{year} - {month} - {day}'.format(**data_info)\n",
        "result"
      ],
      "metadata": {
        "colab": {
          "base_uri": "https://localhost:8080/",
          "height": 35
        },
        "id": "yZldluV0-gxA",
        "outputId": "0cb164a7-0c14-41b0-cbc5-c09f0ef4ca96"
      },
      "execution_count": null,
      "outputs": [
        {
          "output_type": "execute_result",
          "data": {
            "text/plain": [
              "'2019 - 9 - 6'"
            ],
            "application/vnd.google.colaboratory.intrinsic+json": {
              "type": "string"
            }
          },
          "metadata": {},
          "execution_count": 8
        }
      ]
    },
    {
      "cell_type": "code",
      "source": [
        "class Person(object):\n",
        "    def __init__(self, name):\n",
        "        self.name =name\n",
        "    def language(self):\n",
        "        pass\n",
        "class Earthling (Person):\n",
        "    def language(self, language):\n",
        "        return language\n",
        "class Groot (Person):\n",
        "    def language(self, language):\n",
        "        return \"I'm Groot!\"\n",
        "name = ['Hanbit', 'Dr.Strange', 'Groot']\n",
        "country = ['Korea', 'USA', 'Galaxy']\n",
        "language = ['Korean', 'English', 'Groot']\n",
        "for idx, name in enumerate(name):\n",
        "    if country[idx].upper() != 'GALAXY':\n",
        "        person = Earthling(name)\n",
        "        print(person.language(language[idx]))\n",
        "    else:\n",
        "        groot = Groot(name)\n",
        "        print(groot.language(language[idx]))"
      ],
      "metadata": {
        "colab": {
          "base_uri": "https://localhost:8080/"
        },
        "id": "tZbAFGuXE2k7",
        "outputId": "5a73e422-9d6b-472a-9359-5a6da64f9510"
      },
      "execution_count": null,
      "outputs": [
        {
          "output_type": "stream",
          "name": "stdout",
          "text": [
            "Korean\n",
            "English\n",
            "I'm Groot!\n"
          ]
        }
      ]
    },
    {
      "cell_type": "code",
      "source": [
        "a = ['a', '1', 'c']\n",
        "b = ['b', '2', 'd']\n",
        "for c, d in enumerate(zip(a, b)):\n",
        "    print(d)"
      ],
      "metadata": {
        "colab": {
          "base_uri": "https://localhost:8080/"
        },
        "id": "jpHEcpJrWOkV",
        "outputId": "a925c2f9-01b7-48bc-923b-69a163fe85c4"
      },
      "execution_count": null,
      "outputs": [
        {
          "output_type": "stream",
          "name": "stdout",
          "text": [
            "('a', 'b')\n",
            "('1', '2')\n",
            "('c', 'd')\n"
          ]
        }
      ]
    }
  ]
}