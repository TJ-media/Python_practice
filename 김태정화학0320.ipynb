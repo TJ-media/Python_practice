{
  "nbformat": 4,
  "nbformat_minor": 0,
  "metadata": {
    "colab": {
      "provenance": [],
      "authorship_tag": "ABX9TyOD1to2XZc6U3G18G/fqE8t"
    },
    "kernelspec": {
      "name": "python3",
      "display_name": "Python 3"
    },
    "language_info": {
      "name": "python"
    }
  },
  "cells": [
    {
      "cell_type": "code",
      "source": [
        "subj = ['kor', 'eng']\n",
        "subj.append(['python'])\n",
        "print(subj)"
      ],
      "metadata": {
        "colab": {
          "base_uri": "https://localhost:8080/"
        },
        "id": "vRPcHOt4bDwI",
        "outputId": "7db63a2e-56f5-4865-eb23-fa9cfbaea020"
      },
      "execution_count": null,
      "outputs": [
        {
          "output_type": "stream",
          "name": "stdout",
          "text": [
            "['kor', 'eng', ['python']]\n"
          ]
        }
      ]
    },
    {
      "cell_type": "code",
      "source": [
        "#슬라이싱된 값을 리스트에 추가\n",
        "name = ['python', 'c', 'c++', 'JAVA']\n",
        "subj = ['kor', 'eng']\n",
        "subj.append(name[:-2])\n",
        "print (subj)"
      ],
      "metadata": {
        "colab": {
          "base_uri": "https://localhost:8080/"
        },
        "id": "nr-heqFDbiuP",
        "outputId": "ad63bbde-7422-4385-ac61-d3c286a6b71d"
      },
      "execution_count": null,
      "outputs": [
        {
          "output_type": "stream",
          "name": "stdout",
          "text": [
            "['kor', 'eng', ['python', 'c']]\n"
          ]
        }
      ]
    },
    {
      "cell_type": "code",
      "source": [
        "a = [5,4,3,2,1]\n",
        "b = [1,2,3,4,5]\n",
        "b = a\n",
        "a.sort() #출력해도 값을 저장하는 함수가 아니기 때문에 아무것도 안나옴 quiz\n",
        "print(b)\n",
        "a.sort(reverse = True)\n",
        "print(b)"
      ],
      "metadata": {
        "colab": {
          "base_uri": "https://localhost:8080/"
        },
        "id": "PYck3y2JjSME",
        "outputId": "754b2033-ec3e-4dfc-8ca4-586207444242"
      },
      "execution_count": null,
      "outputs": [
        {
          "output_type": "stream",
          "name": "stdout",
          "text": [
            "[1, 2, 3, 4, 5]\n",
            "[5, 4, 3, 2, 1]\n"
          ]
        }
      ]
    },
    {
      "cell_type": "code",
      "source": [
        "age = int(input())\n",
        "if age >= 20:\n",
        "    print('성인입니다.')\n",
        "else:\n",
        "    print('성인이 아닙니다.')"
      ],
      "metadata": {
        "colab": {
          "base_uri": "https://localhost:8080/"
        },
        "id": "crrbhdUxjqaj",
        "outputId": "44a5c6ea-c353-4b77-cb2e-0dc1959a672c"
      },
      "execution_count": null,
      "outputs": [
        {
          "output_type": "stream",
          "name": "stdout",
          "text": [
            "15\n",
            "성인이 아닙니다\n"
          ]
        }
      ]
    },
    {
      "cell_type": "code",
      "source": [
        "#평균구하기\n",
        "kor_score=[49,79,20,100,80]\n",
        "math_score=[43,59,85,30,90]\n",
        "eng_score=[49,79,48,60,100]\n",
        "midterm_score = [kor_score, math_score, eng_score]\n"
      ],
      "metadata": {
        "id": "2ale4bzzf3FV"
      },
      "execution_count": null,
      "outputs": []
    },
    {
      "cell_type": "code",
      "source": [
        "#학점부여하기\n",
        "score = [38, 65, 89, 16, 95, 71, 63, 48, 49, 66, 37]\n",
        "grade = []\n",
        "for i in range(10):\n",
        "    if score[i] >= 90:\n",
        "        grade.append('A')\n",
        "    elif score[i] >= 80:\n",
        "        grade.append('B')\n",
        "    elif score[i] >= 70:\n",
        "        grade.append('C')\n",
        "    elif score[i] >= 60:\n",
        "        grade.append('D')\n",
        "    else:\n",
        "        grade.append('F')\n",
        "print (grade)\n"
      ],
      "metadata": {
        "colab": {
          "base_uri": "https://localhost:8080/"
        },
        "id": "bQMB-qXekS7r",
        "outputId": "f22899a9-9d28-4e6b-9004-9a7a3ed9f84d"
      },
      "execution_count": null,
      "outputs": [
        {
          "output_type": "stream",
          "name": "stdout",
          "text": [
            "['F', 'D', 'B', 'F', 'A', 'C', 'D', 'F', 'F', 'D']\n"
          ]
        }
      ]
    },
    {
      "cell_type": "code",
      "source": [
        "#학점부여하기 정답\n",
        "score = int(input('enter your score : '))\n",
        "if score >= 90:\n",
        "    grade = 'A'\n",
        "elif score >= 80:\n",
        "    grade = 'B'\n",
        "elif score >= 70:\n",
        "    grade = 'C'\n",
        "elif score >= 60:\n",
        "    grade = 'D'\n",
        "else:\n",
        "    grade = 'F'\n",
        "print(grade)"
      ],
      "metadata": {
        "colab": {
          "base_uri": "https://localhost:8080/"
        },
        "id": "ZojJ1UkMrWVg",
        "outputId": "7d777018-7944-485c-9eb8-f2f4c33b2d7a"
      },
      "execution_count": null,
      "outputs": [
        {
          "output_type": "stream",
          "name": "stdout",
          "text": [
            "enter your score : 75\n",
            "C\n"
          ]
        }
      ]
    },
    {
      "cell_type": "code",
      "source": [
        "if 1 :\n",
        "    print('참이라고 해')\n",
        "else :\n",
        "    print('거짓이라고해')"
      ],
      "metadata": {
        "colab": {
          "base_uri": "https://localhost:8080/"
        },
        "id": "kXGTnFdalmGr",
        "outputId": "4d674606-2923-46a4-c540-bcd2374ee61e"
      },
      "execution_count": null,
      "outputs": [
        {
          "output_type": "stream",
          "name": "stdout",
          "text": [
            "참이라고 해\n"
          ]
        }
      ]
    },
    {
      "cell_type": "code",
      "source": [
        "if 0 :\n",
        "    print('참이라고 해')\n",
        "else :\n",
        "    print('거짓이라고해')"
      ],
      "metadata": {
        "id": "J95ohe0KngCa"
      },
      "execution_count": null,
      "outputs": []
    },
    {
      "cell_type": "code",
      "source": [
        "if True :\n",
        "    print('참이라고 해')\n",
        "else :\n",
        "    print('거짓이라고해')"
      ],
      "metadata": {
        "id": "qakAEMUVniBx"
      },
      "execution_count": null,
      "outputs": []
    },
    {
      "cell_type": "code",
      "source": [
        "3>5"
      ],
      "metadata": {
        "colab": {
          "base_uri": "https://localhost:8080/"
        },
        "id": "6cjywFevn16J",
        "outputId": "cc8cfd4d-8bc3-42bd-b8dd-0e05994be9cd"
      },
      "execution_count": null,
      "outputs": [
        {
          "output_type": "execute_result",
          "data": {
            "text/plain": [
              "False"
            ]
          },
          "metadata": {},
          "execution_count": 16
        }
      ]
    },
    {
      "cell_type": "code",
      "source": [
        "(3>5)<10"
      ],
      "metadata": {
        "colab": {
          "base_uri": "https://localhost:8080/"
        },
        "id": "APcehx2JnkD6",
        "outputId": "800f7dc5-8b40-4e90-ed1a-9f91ac68cd30"
      },
      "execution_count": null,
      "outputs": [
        {
          "output_type": "execute_result",
          "data": {
            "text/plain": [
              "True"
            ]
          },
          "metadata": {},
          "execution_count": 15
        }
      ]
    },
    {
      "cell_type": "code",
      "source": [
        "if 13 <= age <= 19 :\n",
        "    print(\"청소년\")"
      ],
      "metadata": {
        "id": "0f3Xwzvon6VZ"
      },
      "execution_count": null,
      "outputs": []
    },
    {
      "cell_type": "code",
      "source": [
        "#이렇게 쓰기로 하자자\n",
        "if age >= 13 and age <= 19 :\n",
        "    print(\"청소년\")"
      ],
      "metadata": {
        "id": "0fTKj_b6oLOy"
      },
      "execution_count": null,
      "outputs": []
    },
    {
      "cell_type": "code",
      "source": [
        "age = int(input('나이입력 : '))\n",
        "if age >= 13 and age <= 19 :\n",
        "    print('청소년')\n",
        "else:\n",
        "    print('청소년이 아닙니다')"
      ],
      "metadata": {
        "colab": {
          "base_uri": "https://localhost:8080/"
        },
        "id": "o0C3GkBuoayZ",
        "outputId": "62d6d0ec-d881-44e5-f97d-0ee7c00ea522"
      },
      "execution_count": null,
      "outputs": [
        {
          "output_type": "stream",
          "name": "stdout",
          "text": [
            "나이입력 : 20\n",
            "청소년이 아닙니다\n"
          ]
        }
      ]
    },
    {
      "cell_type": "markdown",
      "source": [
        "논리연산자 and or\n",
        "and 연산 : 둘 다 참인 경우에만 결과값이 참(1)\n",
        "or 연산 :  둘 다 거짓인 경우에만 결과값이 거짓(0)\n",
        "not 연산 : 참인 경우 결과값이 거짓, 거짓인 경우 결과값이 참참"
      ],
      "metadata": {
        "id": "RB9bLlL4qBDV"
      }
    },
    {
      "cell_type": "code",
      "source": [
        "print(3>5 and 1>10)\n",
        "print(3<5 and 1<10)\n",
        "print(3>5 or 1<10)\n",
        "print(not 2>3)"
      ],
      "metadata": {
        "colab": {
          "base_uri": "https://localhost:8080/"
        },
        "id": "938bYBkKpuDh",
        "outputId": "db5dd2dc-ef5d-455d-ab9e-cd8e6e10ddad"
      },
      "execution_count": null,
      "outputs": [
        {
          "output_type": "stream",
          "name": "stdout",
          "text": [
            "False\n",
            "True\n",
            "True\n",
            "True\n"
          ]
        }
      ]
    },
    {
      "cell_type": "code",
      "source": [
        "#어떤 종류의 학생\n",
        "birth_year = int(input('태어난 연도 : '))\n",
        "age = (2023 - birth_year +1)\n",
        "if age >=20 and age <=26:\n",
        "    print('대학생')\n",
        "elif age >=17 and age <20:\n",
        "    print('고등학생')\n",
        "elif age >=14 and age <17:\n",
        "    print('중학생')\n",
        "elif age >=8 and age <14:\n",
        "    print('초등학생')\n",
        "else:\n",
        "    print('학생이 아닙니다.')"
      ],
      "metadata": {
        "colab": {
          "base_uri": "https://localhost:8080/"
        },
        "id": "3GQCCT9SsDlY",
        "outputId": "535db620-0323-4142-d891-f720f20e3818"
      },
      "execution_count": null,
      "outputs": [
        {
          "output_type": "stream",
          "name": "stdout",
          "text": [
            "태어난 연도 : 2007\n",
            "고등학생\n"
          ]
        }
      ]
    },
    {
      "cell_type": "markdown",
      "source": [
        "반복문 for, while\n",
        "for문 : 정해진 횟수만큼 반복\n",
        "while문 : 주어진 조건이 참인 경우 반복"
      ],
      "metadata": {
        "id": "fSDsCVVHxGB2"
      }
    },
    {
      "cell_type": "code",
      "source": [
        "#for문\n",
        "for i in [1, 2, 3]:\n",
        "    print(i)"
      ],
      "metadata": {
        "id": "Z0pwitKOxDeW"
      },
      "execution_count": null,
      "outputs": []
    },
    {
      "cell_type": "code",
      "source": [
        "for i in ['a', 'b', 'c']:\n",
        "    print(i)"
      ],
      "metadata": {
        "colab": {
          "base_uri": "https://localhost:8080/"
        },
        "id": "qOpHPEOHxvmu",
        "outputId": "0cad8ca3-cd6d-49f3-d054-f1431ace368e"
      },
      "execution_count": null,
      "outputs": [
        {
          "output_type": "stream",
          "name": "stdout",
          "text": [
            "a\n",
            "b\n",
            "c\n"
          ]
        }
      ]
    },
    {
      "cell_type": "code",
      "source": [
        "myList = ['황희찬', '손흥민', '김민재']\n",
        "for i in myList:\n",
        "    print(i)"
      ],
      "metadata": {
        "colab": {
          "base_uri": "https://localhost:8080/"
        },
        "id": "4Q6rNgpQyKRV",
        "outputId": "8d63d06e-d5e8-424f-d8f9-69fd3e3dc7a3"
      },
      "execution_count": null,
      "outputs": [
        {
          "output_type": "stream",
          "name": "stdout",
          "text": [
            "황희찬\n",
            "손흥민\n",
            "김민재\n"
          ]
        }
      ]
    },
    {
      "cell_type": "code",
      "source": [
        "myList = ['황희찬', '손흥민', '김민재']\n",
        "for i in myList:\n",
        "    print('Hello')"
      ],
      "metadata": {
        "colab": {
          "base_uri": "https://localhost:8080/"
        },
        "id": "BAwm9wfMybRc",
        "outputId": "aebf3677-8c6d-4743-d71a-38e82a4352a2"
      },
      "execution_count": null,
      "outputs": [
        {
          "output_type": "stream",
          "name": "stdout",
          "text": [
            "Hello\n",
            "Hello\n",
            "Hello\n"
          ]
        }
      ]
    },
    {
      "cell_type": "code",
      "source": [
        "myList = ['황희찬', '손흥민', '김민재']\n",
        "for i in myList: #리스트의 원소의 개수만큼 반복\n",
        "    print(i, 'Hello')"
      ],
      "metadata": {
        "colab": {
          "base_uri": "https://localhost:8080/"
        },
        "id": "ZtBxW1i2yjNs",
        "outputId": "9fc71981-cf0a-48e7-946f-26fe69414518"
      },
      "execution_count": null,
      "outputs": [
        {
          "output_type": "stream",
          "name": "stdout",
          "text": [
            "황희찬 Hello\n",
            "손흥민 Hello\n",
            "김민재 Hello\n"
          ]
        }
      ]
    },
    {
      "cell_type": "code",
      "source": [
        "for i in 'python':\n",
        "    print(i, 'Hello')"
      ],
      "metadata": {
        "colab": {
          "base_uri": "https://localhost:8080/"
        },
        "id": "lBYY21EUyujs",
        "outputId": "12cf83c5-f071-4591-a5df-1f81e3fb9589"
      },
      "execution_count": null,
      "outputs": [
        {
          "output_type": "stream",
          "name": "stdout",
          "text": [
            "p Hello\n",
            "y Hello\n",
            "t Hello\n",
            "h Hello\n",
            "o Hello\n",
            "n Hello\n"
          ]
        }
      ]
    },
    {
      "cell_type": "code",
      "source": [
        "for i in range(3): #0 이상 3 미만의 횟수만큼 반복\n",
        "    print(i)"
      ],
      "metadata": {
        "colab": {
          "base_uri": "https://localhost:8080/"
        },
        "id": "PRRnTI_ox4v9",
        "outputId": "387464af-8593-4d96-cbca-ee06947169a2"
      },
      "execution_count": null,
      "outputs": [
        {
          "output_type": "stream",
          "name": "stdout",
          "text": [
            "0\n",
            "1\n",
            "2\n"
          ]
        }
      ]
    },
    {
      "cell_type": "code",
      "source": [
        "for i in range(1, 10): #1 이상 10 미만의 횟수만큼 반복\n",
        "    print(i)"
      ],
      "metadata": {
        "id": "sxB0vu9azDJ1"
      },
      "execution_count": null,
      "outputs": []
    },
    {
      "cell_type": "code",
      "source": [
        "for i in range(1, 10, 2): #1 이상 10 미만의 수 중 2의 간격만큼 반복\n",
        "    print(i)"
      ],
      "metadata": {
        "colab": {
          "base_uri": "https://localhost:8080/"
        },
        "id": "sEojn0cdzOE9",
        "outputId": "4545c354-a922-4b9e-ddac-eaf9edcca519"
      },
      "execution_count": null,
      "outputs": [
        {
          "output_type": "stream",
          "name": "stdout",
          "text": [
            "1\n",
            "3\n",
            "5\n",
            "7\n",
            "9\n"
          ]
        }
      ]
    },
    {
      "cell_type": "code",
      "source": [
        "for i in range(2, 11, 2): #2부터 10까지의 수 중 짝수만 출력\n",
        "    print(i)"
      ],
      "metadata": {
        "colab": {
          "base_uri": "https://localhost:8080/"
        },
        "id": "yqAmSY2XzeNk",
        "outputId": "022aabf1-97db-4071-9a99-1bb0b433188e"
      },
      "execution_count": null,
      "outputs": [
        {
          "output_type": "stream",
          "name": "stdout",
          "text": [
            "2\n",
            "4\n",
            "6\n",
            "8\n",
            "10\n"
          ]
        }
      ]
    },
    {
      "cell_type": "code",
      "source": [
        "for i in range(10, 1, -2): #2부터 10까지의 수 중 짝수만 역순으로 출력\n",
        "    print(i)"
      ],
      "metadata": {
        "colab": {
          "base_uri": "https://localhost:8080/"
        },
        "id": "TZz3ystMzzpM",
        "outputId": "f484c92b-41e9-41a5-e8fe-ad5c2766a94d"
      },
      "execution_count": null,
      "outputs": [
        {
          "output_type": "stream",
          "name": "stdout",
          "text": [
            "10\n",
            "8\n",
            "6\n",
            "4\n",
            "2\n"
          ]
        }
      ]
    },
    {
      "cell_type": "code",
      "source": [
        "for i in range(10, 1, -2): #python은 몇 번 출력할까요?\n",
        "    print('python')"
      ],
      "metadata": {
        "colab": {
          "base_uri": "https://localhost:8080/"
        },
        "id": "bu95NEOC0GHN",
        "outputId": "7cae96bd-779e-46e7-e818-d291e9cb7720"
      },
      "execution_count": null,
      "outputs": [
        {
          "output_type": "stream",
          "name": "stdout",
          "text": [
            "python\n",
            "python\n",
            "python\n",
            "python\n",
            "python\n"
          ]
        }
      ]
    },
    {
      "cell_type": "code",
      "source": [
        "for i in range(10, 1, -2): #python은 몇 번 출력할까요?\n",
        "    print(i, 'python')"
      ],
      "metadata": {
        "colab": {
          "base_uri": "https://localhost:8080/"
        },
        "id": "tGOS6bj20GDs",
        "outputId": "783ff33b-a657-4ba9-f83b-a7c9a837dbe6"
      },
      "execution_count": null,
      "outputs": [
        {
          "output_type": "stream",
          "name": "stdout",
          "text": [
            "10 python\n",
            "8 python\n",
            "6 python\n",
            "4 python\n",
            "2 python\n"
          ]
        }
      ]
    },
    {
      "cell_type": "code",
      "source": [
        "i = 1  #i에 1 할당\n",
        "while i < 10:\n",
        "    print(i)\n",
        "    i+=1  #반드시 반복을 끝낼 조건을 만족시킬 수 있어야한다"
      ],
      "metadata": {
        "colab": {
          "base_uri": "https://localhost:8080/"
        },
        "id": "u0iLrtar0Qv8",
        "outputId": "01e5c8b1-b306-4582-cece-b248ca4db34b"
      },
      "execution_count": null,
      "outputs": [
        {
          "output_type": "stream",
          "name": "stdout",
          "text": [
            "1\n",
            "2\n",
            "3\n",
            "4\n",
            "5\n",
            "6\n",
            "7\n",
            "8\n",
            "9\n"
          ]
        }
      ]
    },
    {
      "cell_type": "code",
      "source": [
        "for i in range(10):\n",
        "    if i == 5:\n",
        "        break\n",
        "    print(i)\n",
        "print('End of prongram')"
      ],
      "metadata": {
        "colab": {
          "base_uri": "https://localhost:8080/"
        },
        "id": "1gOKyH883OOT",
        "outputId": "6c052f60-1f89-4efb-a261-81ee56e5350d"
      },
      "execution_count": null,
      "outputs": [
        {
          "output_type": "stream",
          "name": "stdout",
          "text": [
            "0\n",
            "1\n",
            "2\n",
            "3\n",
            "4\n",
            "End of prongram\n"
          ]
        }
      ]
    },
    {
      "cell_type": "code",
      "source": [
        "for i in range(10):\n",
        "    if i == 5:\n",
        "        continue  #i가 5가되면 i를 출력하지 않음음\n",
        "    print(i)\n",
        "print('End of prongram')"
      ],
      "metadata": {
        "colab": {
          "base_uri": "https://localhost:8080/"
        },
        "id": "3jRRwPIY4NC6",
        "outputId": "40126a56-a859-41a3-91bd-00284f656489"
      },
      "execution_count": null,
      "outputs": [
        {
          "output_type": "stream",
          "name": "stdout",
          "text": [
            "0\n",
            "1\n",
            "2\n",
            "3\n",
            "4\n",
            "6\n",
            "7\n",
            "8\n",
            "9\n",
            "End of prongram\n"
          ]
        }
      ]
    },
    {
      "cell_type": "markdown",
      "source": [
        "3장\n",
        "1-3\n",
        "2-3\n",
        "3-['orange', 'strawberry', 'melon'] ['banana', 'orange']\n",
        "4-1 .index() -> 인덱스 번호 반환 ('2'*2)\n",
        "5-1 문제 들어갈 수 있는 코드로 바꾸기\n",
        "6-2 print(total)\n",
        "7-2,4\n",
        "8-5\n",
        "9번 생략\n",
        "10-1\n",
        "11-5\n",
        "12-2\n",
        "13-3\n",
        "14-1"
      ],
      "metadata": {
        "id": "-6tP2BKPot-j"
      }
    },
    {
      "cell_type": "code",
      "source": [
        "x=int(input())\n",
        "if 15<x<20:\n",
        "    print(x+3)\n",
        "elif 21<x<30:\n",
        "    print(x-5)\n",
        "else:\n",
        "    print(f'{x}')"
      ],
      "metadata": {
        "colab": {
          "base_uri": "https://localhost:8080/"
        },
        "id": "N-kWSvYB63Cv",
        "outputId": "b9dbbe73-f198-4a5d-d5dd-798e11b7313d"
      },
      "execution_count": null,
      "outputs": [
        {
          "output_type": "stream",
          "name": "stdout",
          "text": [
            "20\n",
            "20\n"
          ]
        }
      ]
    },
    {
      "cell_type": "code",
      "source": [
        "num = [1,2,3,4,5,6]\n",
        "total = 1\n",
        "for n in num:\n",
        "    total *= n\n",
        "    print(total)\n",
        ""
      ],
      "metadata": {
        "colab": {
          "base_uri": "https://localhost:8080/"
        },
        "id": "ivBVv7tsHxg7",
        "outputId": "2ccc15cb-3988-4070-9e10-6d5d5a5e1547"
      },
      "execution_count": null,
      "outputs": [
        {
          "output_type": "stream",
          "name": "stdout",
          "text": [
            "1\n",
            "2\n",
            "6\n",
            "24\n",
            "120\n",
            "720\n"
          ]
        }
      ]
    },
    {
      "cell_type": "code",
      "source": [
        "def ast(a, b, *args):\n",
        "    print(args)\n",
        "\n",
        "print(ast(1,2,3,4,5))"
      ],
      "metadata": {
        "colab": {
          "base_uri": "https://localhost:8080/"
        },
        "id": "mc1c1m4_PnBk",
        "outputId": "7cf60fcb-b5a9-4aff-8531-4fd7e0de7365"
      },
      "execution_count": null,
      "outputs": [
        {
          "output_type": "stream",
          "name": "stdout",
          "text": [
            "(3, 4, 5)\n",
            "None\n"
          ]
        }
      ]
    }
  ]
}