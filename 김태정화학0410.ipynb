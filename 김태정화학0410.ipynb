{
  "nbformat": 4,
  "nbformat_minor": 0,
  "metadata": {
    "colab": {
      "provenance": []
    },
    "kernelspec": {
      "name": "python3",
      "display_name": "Python 3"
    },
    "language_info": {
      "name": "python"
    }
  },
  "cells": [
    {
      "cell_type": "code",
      "source": [
        "from collections import defaultdict\n",
        "d = defaultdict(lambda : 0) #d라는 딕셔너리 key값에 value가 정의되어 있지 않으면 0으로 정의함\n",
        "print(d['first'])"
      ],
      "metadata": {
        "colab": {
          "base_uri": "https://localhost:8080/"
        },
        "id": "FzHoXTihrqRK",
        "outputId": "ebfba281-fc64-4f60-93a3-feb1b4eed6c6"
      },
      "execution_count": null,
      "outputs": [
        {
          "output_type": "stream",
          "name": "stdout",
          "text": [
            "0\n"
          ]
        }
      ]
    },
    {
      "cell_type": "code",
      "execution_count": null,
      "metadata": {
        "id": "XM4OL-SeepM1",
        "colab": {
          "base_uri": "https://localhost:8080/"
        },
        "outputId": "5e8e3b92-010a-43fa-d969-d6b6dafc12bb"
      },
      "outputs": [
        {
          "output_type": "stream",
          "name": "stdout",
          "text": [
            "dict_items([('yellow', [1, 3]), ('blue', [2, 4]), ('red', [1])])\n"
          ]
        }
      ],
      "source": [
        "from collections import defaultdict\n",
        "s = [('yellow', 1), ('blue', 2), ('yellow', 3), ('blue', 4), ('red', 1)]\n",
        "d = defaultdict(list) #value를 list형태로\n",
        "for k, v in s :\n",
        "    d[k].append(v)\n",
        "print(d.items())"
      ]
    },
    {
      "cell_type": "code",
      "source": [
        "from collections import Counter\n",
        "text = list('elephant')\n",
        "print(text)\n",
        "\n",
        "c = Counter(text)\n",
        "print(c)\n"
      ],
      "metadata": {
        "colab": {
          "base_uri": "https://localhost:8080/"
        },
        "id": "CnBxNpzIng-y",
        "outputId": "389c1d7f-2ac1-4757-d6ea-afde5a54de27"
      },
      "execution_count": null,
      "outputs": [
        {
          "output_type": "stream",
          "name": "stdout",
          "text": [
            "['e', 'l', 'e', 'p', 'h', 'a', 'n', 't']\n",
            "Counter({'e': 2, 'l': 1, 'p': 1, 'h': 1, 'a': 1, 'n': 1, 't': 1})\n"
          ]
        }
      ]
    },
    {
      "cell_type": "code",
      "source": [
        "from collections import namedtuple\n",
        "Point = namedtuple('Point', ['x', 'y'])\n",
        "p = Point(11, y=22)\n",
        "print(p)"
      ],
      "metadata": {
        "colab": {
          "base_uri": "https://localhost:8080/"
        },
        "id": "zGEuunYtoNJz",
        "outputId": "84fca414-8333-4f48-8244-014e47ea0466"
      },
      "execution_count": null,
      "outputs": [
        {
          "output_type": "stream",
          "name": "stdout",
          "text": [
            "Point(x=11, y=22)\n"
          ]
        }
      ]
    },
    {
      "cell_type": "markdown",
      "source": [
        "연습문제 7장\n",
        "1. 5\n",
        "2. 3, 5\n",
        "3. 1\n",
        "4. 4 (setdefault : key값 없으면 추가 있으면 기존값)\n",
        "5. 6\n",
        "6. 4\n",
        "7. 4\n",
        "8. 3 제외\n",
        "9. 4\n",
        "10. 제외\n",
        "11. 스택, 큐, 튜플, 세트\n",
        "12. 코드 써보기\n",
        "13. 자료형, 문자열, 정수형, 22 (1+2+3+4+5+7)\n",
        "14. 4 제외\n",
        "15. 3\n",
        "16. 1\n",
        "17. 19\n",
        "18. 1\n",
        "19. 4\n"
      ],
      "metadata": {
        "id": "A0IXgJLnudcB"
      }
    },
    {
      "cell_type": "code",
      "source": [
        "text = 'Python is Fun!'\n",
        "t = text.replace('P', 'p')\n",
        "print(t)"
      ],
      "metadata": {
        "colab": {
          "base_uri": "https://localhost:8080/"
        },
        "id": "-P46McDYytzQ",
        "outputId": "5312da1c-43b4-44fd-e80b-74387a1412c2"
      },
      "execution_count": null,
      "outputs": [
        {
          "output_type": "stream",
          "name": "stdout",
          "text": [
            "python is Fun!\n"
          ]
        }
      ]
    },
    {
      "cell_type": "code",
      "source": [
        "text = 'Python is Fun!'\n",
        "tt = text.replace(' ', '')\n",
        "print(tt)"
      ],
      "metadata": {
        "colab": {
          "base_uri": "https://localhost:8080/"
        },
        "id": "nA8-4x51y_R_",
        "outputId": "0465b641-3264-479a-88d1-76e8cff88813"
      },
      "execution_count": null,
      "outputs": [
        {
          "output_type": "stream",
          "name": "stdout",
          "text": [
            "PythonisFun!\n"
          ]
        }
      ]
    },
    {
      "cell_type": "markdown",
      "source": [
        "사용자정의함수, 매개변수, 반환값유무"
      ],
      "metadata": {
        "id": "msRyucFfz-Qn"
      }
    },
    {
      "cell_type": "code",
      "source": [
        "def a_area():\n",
        "    print(5 * 7)\n",
        "def b_area(x, y):\n",
        "    print(x * y)\n",
        "def c_area():\n",
        "    return(5 * 7)\n",
        "def d_area(x, y):\n",
        "    return(x * y)\n",
        "\n",
        "print('--------------------')\n",
        "a_area()\n",
        "print('--------------------')\n",
        "print(a_area())\n",
        "print('--------------------')\n",
        "b_area(5, 7)\n",
        "print('--------------------')\n",
        "print(c_area())\n",
        "print('--------------------')\n",
        "print(d_area(5, 7))\n",
        "print('--------------------')"
      ],
      "metadata": {
        "colab": {
          "base_uri": "https://localhost:8080/"
        },
        "id": "Flo27_ko0IBI",
        "outputId": "59a71d8c-3649-4c64-ec6b-e75ce1d83060"
      },
      "execution_count": null,
      "outputs": [
        {
          "output_type": "stream",
          "name": "stdout",
          "text": [
            "--------------------\n",
            "35\n",
            "--------------------\n",
            "35\n",
            "None\n",
            "--------------------\n",
            "35\n",
            "--------------------\n",
            "35\n",
            "--------------------\n",
            "35\n",
            "--------------------\n"
          ]
        }
      ]
    },
    {
      "cell_type": "code",
      "source": [
        "def b_area(x, y):\n",
        "    print(x * y)\n",
        "result = b_area(5, 7) #반환값이 없으므로 불필요\n",
        "print(result)"
      ],
      "metadata": {
        "colab": {
          "base_uri": "https://localhost:8080/"
        },
        "id": "6FB-VYFanjln",
        "outputId": "b4663b5e-0f4c-48d3-8ded-e8e42d549da1"
      },
      "execution_count": null,
      "outputs": [
        {
          "output_type": "stream",
          "name": "stdout",
          "text": [
            "35\n",
            "None\n"
          ]
        }
      ]
    },
    {
      "cell_type": "code",
      "source": [
        "def f(x):\n",
        "    y = x\n",
        "    print(id(x))\n",
        "    print(id(y))\n",
        "    x = 5\n",
        "    print(id(x))\n",
        "    return y * y\n",
        "\n",
        "x = 3\n",
        "print(f(x))\n",
        "print(x)\n",
        "print(id(x))"
      ],
      "metadata": {
        "colab": {
          "base_uri": "https://localhost:8080/"
        },
        "id": "kAyEdMua2wiW",
        "outputId": "782ac1c3-20a1-409c-81d2-6c4fde211898"
      },
      "execution_count": null,
      "outputs": [
        {
          "output_type": "stream",
          "name": "stdout",
          "text": [
            "140106025798000\n",
            "140106025798000\n",
            "140106025798064\n",
            "9\n",
            "3\n",
            "140106025798000\n"
          ]
        }
      ]
    },
    {
      "cell_type": "code",
      "source": [
        "def f(t):\n",
        "    y = t\n",
        "    print(id(t))\n",
        "    print(id(y))\n",
        "    t = 5\n",
        "    print(id(t))\n",
        "    return y * y\n",
        "\n",
        "x = 3\n",
        "print(f(x))\n",
        "print(x)\n",
        "print(id(x))"
      ],
      "metadata": {
        "colab": {
          "base_uri": "https://localhost:8080/"
        },
        "id": "vC1JjQv2of8V",
        "outputId": "3f914586-c9ff-4413-f239-065b432002dc"
      },
      "execution_count": null,
      "outputs": [
        {
          "output_type": "stream",
          "name": "stdout",
          "text": [
            "139801070942576\n",
            "139801070942576\n",
            "139801070942640\n",
            "9\n",
            "3\n",
            "139801070942576\n"
          ]
        }
      ]
    },
    {
      "cell_type": "code",
      "source": [
        "def f(x):\n",
        "    y = x\n",
        "    x = 5\n",
        "    return y*y, x, x**2  #반환값은 여러개도 가능\n",
        "\n",
        "x = 3\n",
        "print(f(x))\n",
        "print(x)"
      ],
      "metadata": {
        "colab": {
          "base_uri": "https://localhost:8080/"
        },
        "id": "CNjLx65z9GQk",
        "outputId": "6364d0b1-e691-4894-a231-1dfa5b5c2f17"
      },
      "execution_count": null,
      "outputs": [
        {
          "output_type": "stream",
          "name": "stdout",
          "text": [
            "140106025798000\n",
            "140106025798000\n",
            "140106025798064\n",
            "(9, 5, 25)\n",
            "3\n",
            "140106025798000\n"
          ]
        }
      ]
    },
    {
      "cell_type": "markdown",
      "source": [
        "함수가 변수를 호출하는 방식\n",
        "값에 의한 호출"
      ],
      "metadata": {
        "id": "68Eu_k3n6_Ut"
      }
    },
    {
      "cell_type": "code",
      "source": [
        "#함수의 호출 방식\n",
        "def spam(eggs):\n",
        "    eggs.append(1) #기존 객체의 주소값에 [1] 추가\n",
        "    print(eggs)\n",
        "    eggs = [2, 3] # 새로운 객체 생성\n",
        "    print(eggs)\n",
        "ham = [0]\n",
        "spam(ham)\n",
        "print(ham)"
      ],
      "metadata": {
        "colab": {
          "base_uri": "https://localhost:8080/"
        },
        "id": "GLHcyzqK6f31",
        "outputId": "5fd2c876-3356-4896-b7ee-2b4642152643"
      },
      "execution_count": null,
      "outputs": [
        {
          "output_type": "stream",
          "name": "stdout",
          "text": [
            "[0, 1]\n",
            "[2, 3]\n",
            "[0, 1]\n"
          ]
        }
      ]
    },
    {
      "cell_type": "code",
      "source": [
        "#함수의 호출 방식\n",
        "def spam(eggs):\n",
        "    eggs.append(1) #기존 객체의 주소값에 [1] 추가\n",
        "    print(eggs)\n",
        "    print(id(eggs))\n",
        "    eggs = [2, 3] # 새로운 객체 생성\n",
        "    print(eggs)\n",
        "    print(id(eggs))\n",
        "ham = [0]\n",
        "spam(ham)\n",
        "print(ham)\n",
        "print(id(ham))"
      ],
      "metadata": {
        "colab": {
          "base_uri": "https://localhost:8080/"
        },
        "id": "zuMaEyAT7g4U",
        "outputId": "b8580d5e-2590-4282-bcfd-fcfd8434a850"
      },
      "execution_count": null,
      "outputs": [
        {
          "output_type": "stream",
          "name": "stdout",
          "text": [
            "[0, 1]\n",
            "140104763100992\n",
            "[2, 3]\n",
            "140104760817152\n",
            "[0, 1]\n",
            "140104763100992\n"
          ]
        }
      ]
    },
    {
      "cell_type": "markdown",
      "source": [
        "변수의 사용 범위\n",
        "지역변수(local variable) : 함수 내부에서만 사용\n",
        "전역변수(global variable) : 프로그램 전체에서 사용"
      ],
      "metadata": {
        "id": "3WqATDPa9mos"
      }
    },
    {
      "cell_type": "code",
      "source": [
        "def test(t):\n",
        "    print(x)\n",
        "    t = 20\n",
        "    print('In Function : ', t)\n",
        "\n",
        "x = 10\n",
        "test(x)\n",
        "print('In Main : ', x)\n",
        "print('In Main : ', t)"
      ],
      "metadata": {
        "colab": {
          "base_uri": "https://localhost:8080/",
          "height": 266
        },
        "id": "Xop2SlSI927A",
        "outputId": "73fa0774-c2e3-43d3-cb35-55633f7942bf"
      },
      "execution_count": null,
      "outputs": [
        {
          "output_type": "stream",
          "name": "stdout",
          "text": [
            "10\n",
            "In Function :  20\n",
            "In Main :  10\n"
          ]
        },
        {
          "output_type": "error",
          "ename": "NameError",
          "evalue": "ignored",
          "traceback": [
            "\u001b[0;31m---------------------------------------------------------------------------\u001b[0m",
            "\u001b[0;31mNameError\u001b[0m                                 Traceback (most recent call last)",
            "\u001b[0;32m<ipython-input-1-c2e8b75abbbb>\u001b[0m in \u001b[0;36m<cell line: 9>\u001b[0;34m()\u001b[0m\n\u001b[1;32m      7\u001b[0m \u001b[0mtest\u001b[0m\u001b[0;34m(\u001b[0m\u001b[0mx\u001b[0m\u001b[0;34m)\u001b[0m\u001b[0;34m\u001b[0m\u001b[0;34m\u001b[0m\u001b[0m\n\u001b[1;32m      8\u001b[0m \u001b[0mprint\u001b[0m\u001b[0;34m(\u001b[0m\u001b[0;34m'In Main : '\u001b[0m\u001b[0;34m,\u001b[0m \u001b[0mx\u001b[0m\u001b[0;34m)\u001b[0m\u001b[0;34m\u001b[0m\u001b[0;34m\u001b[0m\u001b[0m\n\u001b[0;32m----> 9\u001b[0;31m \u001b[0mprint\u001b[0m\u001b[0;34m(\u001b[0m\u001b[0;34m'In Main : '\u001b[0m\u001b[0;34m,\u001b[0m \u001b[0mt\u001b[0m\u001b[0;34m)\u001b[0m\u001b[0;34m\u001b[0m\u001b[0;34m\u001b[0m\u001b[0m\n\u001b[0m",
            "\u001b[0;31mNameError\u001b[0m: name 't' is not defined"
          ]
        }
      ]
    },
    {
      "cell_type": "code",
      "source": [
        "def factorial(n):\n",
        "    if n == 1:\n",
        "        return 1\n",
        "    else:\n",
        "        return n * factorial(n-1)\n",
        "num = int(input('Input Number for Factorial Calculation : '))\n",
        "print(factorial(num))"
      ],
      "metadata": {
        "colab": {
          "base_uri": "https://localhost:8080/"
        },
        "id": "YqKCXZFo-lXD",
        "outputId": "78107671-8425-4f6c-9c6a-e46cf6e87241"
      },
      "execution_count": null,
      "outputs": [
        {
          "output_type": "stream",
          "name": "stdout",
          "text": [
            "Input Number for Factorial Calculation : 9\n",
            "362880\n"
          ]
        }
      ]
    },
    {
      "cell_type": "code",
      "source": [
        "#quiz\n",
        "word = input()\n",
        "wordList = list(word)\n",
        "print(wordList)\n",
        "resultList = []\n",
        "for i in range(len(wordList)):\n",
        "    resultList.append(wordList.pop())\n",
        "print(resultList)"
      ],
      "metadata": {
        "id": "36x7NovZ_447"
      },
      "execution_count": null,
      "outputs": []
    }
  ]
}