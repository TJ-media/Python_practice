{
  "nbformat": 4,
  "nbformat_minor": 0,
  "metadata": {
    "colab": {
      "provenance": [],
      "authorship_tag": "ABX9TyOF4rvoAwJb1og0GHSt036B"
    },
    "kernelspec": {
      "name": "python3",
      "display_name": "Python 3"
    },
    "language_info": {
      "name": "python"
    }
  },
  "cells": [
    {
      "cell_type": "markdown",
      "source": [
        "함수 function\n",
        "사용자정의함수\n",
        "함수명 작성규칙 :\n",
        "1) 공백 안됨\n",
        "2) _사용가능, 그 외 특수기호 안됨\n",
        "3) 맨 앞에 숫자 불가능\n",
        "4) 예약어 안됨"
      ],
      "metadata": {
        "id": "cirYNcRpjH_E"
      }
    },
    {
      "cell_type": "code",
      "execution_count": null,
      "metadata": {
        "id": "Jr6SO7sPaW8w",
        "colab": {
          "base_uri": "https://localhost:8080/"
        },
        "outputId": "2d858830-add7-4742-f4cd-4709cf723ab0"
      },
      "outputs": [
        {
          "output_type": "stream",
          "name": "stdout",
          "text": [
            "15\n"
          ]
        }
      ],
      "source": [
        "def area(x,y):\n",
        "    return x * y\n",
        "\n",
        "print(area(3,5))"
      ]
    },
    {
      "cell_type": "code",
      "source": [
        "def area(x,y):\n",
        "    return x * y\n",
        "\n",
        "rectangle = area(3,5)\n",
        "print(rectangle)"
      ],
      "metadata": {
        "colab": {
          "base_uri": "https://localhost:8080/"
        },
        "id": "OnUkn2x9kgS8",
        "outputId": "ba30aa6b-e3b6-4030-aff5-ab254be14171"
      },
      "execution_count": null,
      "outputs": [
        {
          "output_type": "stream",
          "name": "stdout",
          "text": [
            "15\n"
          ]
        }
      ]
    },
    {
      "cell_type": "code",
      "source": [
        "#안되는 예\n",
        "def area(x,y):\n",
        "    print(x * y)\n",
        "\n",
        "rectangle = area(3,5)\n",
        "print(rectangle)"
      ],
      "metadata": {
        "colab": {
          "base_uri": "https://localhost:8080/"
        },
        "id": "pCBLrq-9kvbr",
        "outputId": "85327826-66a7-4cee-ed94-309fe798bb83"
      },
      "execution_count": null,
      "outputs": [
        {
          "output_type": "stream",
          "name": "stdout",
          "text": [
            "15\n",
            "None\n"
          ]
        }
      ]
    },
    {
      "cell_type": "code",
      "source": [
        "def area(x,y):\n",
        "    return x * y\n",
        "\n",
        "x = 10\n",
        "y = 20\n",
        "print('가로길이 : ', x)\n",
        "print('세로길이 : ', y)\n",
        "\n",
        "print('사각형의 넓이 : ', area(x,y))"
      ],
      "metadata": {
        "colab": {
          "base_uri": "https://localhost:8080/"
        },
        "id": "xjKLl2QUlRSz",
        "outputId": "594d3de2-06f1-4472-a6f3-9845c692f607"
      },
      "execution_count": null,
      "outputs": [
        {
          "output_type": "stream",
          "name": "stdout",
          "text": [
            "가로길이 :  10\n",
            "세로길이 :  20\n",
            "사각형의 넓이 :  200\n"
          ]
        }
      ]
    },
    {
      "cell_type": "code",
      "source": [
        "def f(x):\n",
        "    return 2*x + 7\n",
        "def g(x):\n",
        "    return x**2\n",
        "\n",
        "x = 2\n",
        "print(f(x) + g(x) + f(g(x)) + g(f(x)))"
      ],
      "metadata": {
        "colab": {
          "base_uri": "https://localhost:8080/"
        },
        "id": "1zxoPf9pl_HD",
        "outputId": "bc1bdf7d-cf01-4635-b1dd-554cb0c779fe"
      },
      "execution_count": null,
      "outputs": [
        {
          "output_type": "stream",
          "name": "stdout",
          "text": [
            "151\n"
          ]
        }
      ]
    },
    {
      "cell_type": "markdown",
      "source": [
        "collection 자료형\n",
        "스택(stack)\n",
        "사전적의미 : 쌓아놓은 더미\n",
        "마지막에 저장된 값이 먼저 나간다.\n",
        "Last In First Out(LIFO)"
      ],
      "metadata": {
        "id": "XsXe041FrXqH"
      }
    },
    {
      "cell_type": "code",
      "source": [
        "#push 5번\n",
        "numList = []\n",
        "for i in range(5):\n",
        "    num = int(input('숫자입력 : '))\n",
        "    numList.append(num)\n",
        "    print(numList)3"
      ],
      "metadata": {
        "colab": {
          "base_uri": "https://localhost:8080/"
        },
        "id": "DLWsWvItrJ3A",
        "outputId": "0a952479-4157-46b0-b6ea-6509f2963bc7"
      },
      "execution_count": null,
      "outputs": [
        {
          "output_type": "stream",
          "name": "stdout",
          "text": [
            "숫자입력 : 5\n",
            "[5]\n",
            "숫자입력 : 7\n",
            "[5, 7]\n",
            "숫자입력 : 99\n",
            "[5, 7, 99]\n",
            "숫자입력 : 2\n",
            "[5, 7, 99, 2]\n",
            "숫자입력 : 4\n",
            "[5, 7, 99, 2, 4]\n"
          ]
        }
      ]
    },
    {
      "cell_type": "code",
      "source": [
        "#pop 3번\n",
        "numList = [1, 4, 10, 15, 20]\n",
        "for i in range(3):\n",
        "    numList.pop()\n",
        "    print(numList)"
      ],
      "metadata": {
        "colab": {
          "base_uri": "https://localhost:8080/"
        },
        "id": "wrzhCe_0sdUw",
        "outputId": "2f595cdb-4e8d-4e9a-d704-3543821bf8db"
      },
      "execution_count": null,
      "outputs": [
        {
          "output_type": "stream",
          "name": "stdout",
          "text": [
            "[1, 4, 10, 15]\n",
            "[1, 4, 10]\n",
            "[1, 4]\n"
          ]
        }
      ]
    },
    {
      "cell_type": "code",
      "source": [
        "#역순으로 문자열 추출하기\n",
        "word = input('Input a word : ')\n",
        "word_list = list(word)\n",
        "print(word_list)\n",
        "result = []\n",
        "for _ in range(len(word_list)):\n",
        "    result.append(word_list.pop())\n",
        "print(result)\n",
        "\n",
        "print(word[::-1])"
      ],
      "metadata": {
        "colab": {
          "base_uri": "https://localhost:8080/"
        },
        "id": "enizJ-xes8-I",
        "outputId": "405f2aec-cbcb-4dc7-f651-04dea3a79651"
      },
      "execution_count": null,
      "outputs": [
        {
          "output_type": "stream",
          "name": "stdout",
          "text": [
            "Input a word : python\n",
            "['p', 'y', 't', 'h', 'o', 'n']\n",
            "['n', 'o', 'h', 't', 'y', 'p']\n",
            "nohtyp\n"
          ]
        }
      ]
    },
    {
      "cell_type": "markdown",
      "source": [
        "큐(queue)\n",
        "사전적의미 : 대기행렬\n",
        "먼저 들어간 데이터가 먼저 나오는 구조\n",
        "First In First Out"
      ],
      "metadata": {
        "id": "ueYoWl10uBa3"
      }
    },
    {
      "cell_type": "code",
      "source": [
        "a = [1, 2, 3, 4, 5]\n",
        "a.append(10)\n",
        "a.append(20)\n",
        "a.pop(0)\n",
        "a.pop(0)\n",
        "print(a)"
      ],
      "metadata": {
        "colab": {
          "base_uri": "https://localhost:8080/"
        },
        "id": "ZSbHrzTiuX-G",
        "outputId": "d5a49a4d-568a-46ee-f56b-3c3eb92f7275"
      },
      "execution_count": null,
      "outputs": [
        {
          "output_type": "stream",
          "name": "stdout",
          "text": [
            "[3, 4, 5, 10, 20]\n"
          ]
        }
      ]
    },
    {
      "cell_type": "markdown",
      "source": [
        "튜플(tuple)\n",
        "리스트와 유사\n",
        "단, 값 변경 불가"
      ],
      "metadata": {
        "id": "WPdRj29Pu0pn"
      }
    },
    {
      "cell_type": "code",
      "source": [
        "t = (1, 2, 3)\n",
        "print(t[1])\n",
        "\n",
        "print(t[1]*5)\n",
        "\n",
        "print(type(t))"
      ],
      "metadata": {
        "colab": {
          "base_uri": "https://localhost:8080/"
        },
        "id": "HRG_3E5qu95C",
        "outputId": "0288b1d6-b748-4010-e1e9-81d4eb0c9aa2"
      },
      "execution_count": null,
      "outputs": [
        {
          "output_type": "stream",
          "name": "stdout",
          "text": [
            "2\n",
            "10\n",
            "<class 'tuple'>\n"
          ]
        }
      ]
    },
    {
      "cell_type": "code",
      "source": [
        "num = (100)\n",
        "print(type(num))\n",
        "\n",
        "numt = (100,)\n",
        "print(type(numt))\n",
        "\n",
        "numt_2 = 100, 2\n",
        "print(type(numt_2))"
      ],
      "metadata": {
        "colab": {
          "base_uri": "https://localhost:8080/"
        },
        "id": "RBJOh7A3vh9n",
        "outputId": "2a5788b8-c807-4f6c-88c2-34a45dd38491"
      },
      "execution_count": null,
      "outputs": [
        {
          "output_type": "stream",
          "name": "stdout",
          "text": [
            "<class 'int'>\n",
            "<class 'tuple'>\n",
            "<class 'tuple'>\n"
          ]
        }
      ]
    },
    {
      "cell_type": "markdown",
      "source": [
        "세트(set)\n",
        "값을 순서없이 저장하되 중복을 허용하지 않는 자료형"
      ],
      "metadata": {
        "id": "r-TawPAKwEI-"
      }
    },
    {
      "cell_type": "code",
      "source": [
        "s = set([1, 2, 3, 1, 2, 3])\n",
        "print(s)\n",
        "\n",
        "s.add(1)\n",
        "print(s)\n",
        "\n",
        "s.remove(1)\n",
        "print(s)\n",
        "\n",
        "s.update([1, 4, 5, 6, 7])\n",
        "print(s)\n",
        "\n",
        "s.discard(3)\n",
        "print(s)\n",
        "\n",
        "s.clear()\n",
        "print(s)"
      ],
      "metadata": {
        "id": "4oEh0FlNwNC-",
        "colab": {
          "base_uri": "https://localhost:8080/"
        },
        "outputId": "7e1a7f60-0bb5-418a-8952-29b0e9570916"
      },
      "execution_count": null,
      "outputs": [
        {
          "output_type": "stream",
          "name": "stdout",
          "text": [
            "{1, 2, 3}\n",
            "{1, 2, 3}\n",
            "{2, 3}\n",
            "{1, 2, 3, 4, 5, 6, 7}\n",
            "{1, 2, 4, 5, 6, 7}\n",
            "set()\n"
          ]
        }
      ]
    },
    {
      "cell_type": "code",
      "source": [
        "s1 = set([1, 2, 3, 4, 5])\n",
        "s2 = set([3, 4, 5, 6, 7])\n",
        "\n",
        "print(s1.union(s2))\n",
        "print(s1|s2)\n",
        "\n",
        "print(s1.intersection(s2))\n",
        "print(s1&s2)\n",
        "\n",
        "print(s1.difference(s2))\n",
        "print(s1-s2)"
      ],
      "metadata": {
        "colab": {
          "base_uri": "https://localhost:8080/"
        },
        "id": "imuEvaNgwsOF",
        "outputId": "ca89ee8d-117f-4403-d942-8d2353e57d1b"
      },
      "execution_count": null,
      "outputs": [
        {
          "output_type": "stream",
          "name": "stdout",
          "text": [
            "{1, 2, 3, 4, 5, 6, 7}\n",
            "{1, 2, 3, 4, 5, 6, 7}\n",
            "{3, 4, 5}\n",
            "{3, 4, 5}\n",
            "{1, 2}\n",
            "{1, 2}\n"
          ]
        }
      ]
    },
    {
      "cell_type": "markdown",
      "source": [
        "딕셔너리(dictionary)\n",
        "데이터의 유일한 구분자인 키(key)와 실제 데이터 값(value)이 쌍으로 저장된 자료형\n",
        "순서를 고려하지 않음"
      ],
      "metadata": {
        "id": "Lh8N-ldhxaum"
      }
    },
    {
      "cell_type": "code",
      "source": [
        "menu = {}\n",
        "menu['떡볶이'] = 3500\n",
        "menu['어묵'] = 500\n",
        "menu['튀김'] = 2000\n",
        "print(menu)\n",
        "print('-----------------------')\n",
        "print(menu['떡볶이'])\n",
        "print('-----------------------')\n",
        "menu['어묵'] = 1500\n",
        "print(menu['어묵'])\n",
        "print('-----------------------')\n",
        "menu['김밥'] = 3000\n",
        "print(menu)\n",
        "print('-----------------------')\n",
        "print(menu.keys())\n",
        "print(menu.values())\n",
        "print(menu.items())\n",
        "print('-----------------------')\n",
        "for k, v in menu.items():\n",
        "    print('keys : ', k)\n",
        "    print('values : ', v)\n",
        "print('-----------------------')\n",
        "for k, v in menu.items():\n",
        "    print(k, v)\n",
        "print('-----------------------')\n",
        "print('어묵' in menu.keys())\n",
        "print('오뎅' in menu.keys())\n",
        "print('3500' in menu.values())"
      ],
      "metadata": {
        "colab": {
          "base_uri": "https://localhost:8080/"
        },
        "id": "-yW0AewNwsLV",
        "outputId": "a6050097-7e2f-4e20-f0dc-670acbe09a97"
      },
      "execution_count": null,
      "outputs": [
        {
          "output_type": "stream",
          "name": "stdout",
          "text": [
            "{'떡볶이': 3500, '어묵': 500, '튀김': 2000}\n",
            "-----------------------\n",
            "3500\n",
            "-----------------------\n",
            "1500\n",
            "-----------------------\n",
            "{'떡볶이': 3500, '어묵': 1500, '튀김': 2000, '김밥': 3000}\n",
            "-----------------------\n",
            "dict_keys(['떡볶이', '어묵', '튀김', '김밥'])\n",
            "dict_values([3500, 1500, 2000, 3000])\n",
            "dict_items([('떡볶이', 3500), ('어묵', 1500), ('튀김', 2000), ('김밥', 3000)])\n",
            "-----------------------\n",
            "keys :  떡볶이\n",
            "values :  3500\n",
            "keys :  어묵\n",
            "values :  1500\n",
            "keys :  튀김\n",
            "values :  2000\n",
            "keys :  김밥\n",
            "values :  3000\n",
            "-----------------------\n",
            "떡볶이 3500\n",
            "어묵 1500\n",
            "튀김 2000\n",
            "김밥 3000\n",
            "-----------------------\n",
            "True\n",
            "False\n",
            "False\n"
          ]
        }
      ]
    },
    {
      "cell_type": "markdown",
      "source": [
        "collections 모듈\n",
        "deque\n",
        "OrderedDict\n",
        "defaultdict\n",
        "Counter\n",
        "namedtuple"
      ],
      "metadata": {
        "id": "bsbA5yqr22Z6"
      }
    },
    {
      "cell_type": "markdown",
      "source": [
        "deque\n",
        "스택과 큐를 모두 지원하는 모듈\n",
        "리스트와 비슷한 형식으로 데이터 저장해야함\n",
        "\n"
      ],
      "metadata": {
        "id": "N8tsjU7W3RNa"
      }
    },
    {
      "cell_type": "code",
      "source": [
        "from collections import deque\n",
        "deque_list = deque()\n",
        "for i in range(5):\n",
        "    deque_list.append(i)\n",
        "print(deque_list)"
      ],
      "metadata": {
        "colab": {
          "base_uri": "https://localhost:8080/"
        },
        "id": "FyYAaEXZ3dJi",
        "outputId": "b15cfd5b-9725-4eed-b122-4301716d5185"
      },
      "execution_count": null,
      "outputs": [
        {
          "output_type": "stream",
          "name": "stdout",
          "text": [
            "deque([0, 1, 2, 3, 4])\n"
          ]
        }
      ]
    },
    {
      "cell_type": "code",
      "source": [
        "deque_list = [1, 2, 3, 4, 5]\n",
        "deque_list.pop()\n",
        "deque_list.pop()\n",
        "deque_list.pop()\n",
        "print(deque_list)"
      ],
      "metadata": {
        "colab": {
          "base_uri": "https://localhost:8080/"
        },
        "id": "piy7Dzqa3uL5",
        "outputId": "fb1c3048-aeb3-4757-8fdb-5a5ce5cdd392"
      },
      "execution_count": null,
      "outputs": [
        {
          "output_type": "stream",
          "name": "stdout",
          "text": [
            "[1, 2]\n"
          ]
        }
      ]
    },
    {
      "cell_type": "code",
      "source": [
        "from collections import deque\n",
        "deque_list = deque()\n",
        "for i in range(5):\n",
        "    deque_list.appendleft(i) #(4-i)하면 어떻게 될까\n",
        "print(deque_list)"
      ],
      "metadata": {
        "colab": {
          "base_uri": "https://localhost:8080/"
        },
        "id": "TW8NxGTy31YB",
        "outputId": "0da5b92f-aabd-4811-90be-0e348dce0f11"
      },
      "execution_count": null,
      "outputs": [
        {
          "output_type": "stream",
          "name": "stdout",
          "text": [
            "deque([4, 3, 2, 1, 0])\n"
          ]
        }
      ]
    },
    {
      "cell_type": "code",
      "source": [
        "print(deque(reversed(deque_list)))\n"
      ],
      "metadata": {
        "id": "Wbzmuyyd5aWZ",
        "colab": {
          "base_uri": "https://localhost:8080/",
          "height": 172
        },
        "outputId": "c82de610-343e-4b44-aba0-b1bc72f6028a"
      },
      "execution_count": null,
      "outputs": [
        {
          "output_type": "error",
          "ename": "NameError",
          "evalue": "ignored",
          "traceback": [
            "\u001b[0;31m---------------------------------------------------------------------------\u001b[0m",
            "\u001b[0;31mNameError\u001b[0m                                 Traceback (most recent call last)",
            "\u001b[0;32m<ipython-input-1-1a0906bf740d>\u001b[0m in \u001b[0;36m<cell line: 1>\u001b[0;34m()\u001b[0m\n\u001b[0;32m----> 1\u001b[0;31m \u001b[0mprint\u001b[0m\u001b[0;34m(\u001b[0m\u001b[0mdeque\u001b[0m\u001b[0;34m(\u001b[0m\u001b[0mreversed\u001b[0m\u001b[0;34m(\u001b[0m\u001b[0mdeque_list\u001b[0m\u001b[0;34m)\u001b[0m\u001b[0;34m)\u001b[0m\u001b[0;34m)\u001b[0m\u001b[0;34m\u001b[0m\u001b[0;34m\u001b[0m\u001b[0m\n\u001b[0m",
            "\u001b[0;31mNameError\u001b[0m: name 'deque' is not defined"
          ]
        }
      ]
    },
    {
      "cell_type": "code",
      "source": [
        "from collections import OrderedDict\n",
        "\n",
        "def sort_by_key(t): #key값 기준으로 정렬\n",
        "    return t[0]\n",
        "\n",
        "menu = dict()\n",
        "menu['떡볶이'] = 3500\n",
        "menu['어묵'] = 500\n",
        "menu['김밥'] = 3000\n",
        "menu['튀김'] = 2000\n",
        "\n",
        "print('menu', sorted(menu.items(), key = sort_by_key))"
      ],
      "metadata": {
        "colab": {
          "base_uri": "https://localhost:8080/"
        },
        "id": "WxqO2LaV6FEp",
        "outputId": "1da9f7d0-4063-452d-c13c-b0fefdb21317"
      },
      "execution_count": null,
      "outputs": [
        {
          "output_type": "stream",
          "name": "stdout",
          "text": [
            "menu [('김밥', 3000), ('떡볶이', 3500), ('어묵', 500), ('튀김', 2000)]\n"
          ]
        }
      ]
    },
    {
      "cell_type": "code",
      "source": [
        "from collections import OrderedDict\n",
        "\n",
        "def sort_by_value(t): #value값 기준으로 정렬\n",
        "    return t[1]\n",
        "\n",
        "menu = dict()\n",
        "menu['떡볶이'] = 3500\n",
        "menu['어묵'] = 500\n",
        "menu['김밥'] = 3000\n",
        "menu['튀김'] = 2000\n",
        "\n",
        "print('menu', sorted(menu.items(), key = sort_by_value))"
      ],
      "metadata": {
        "colab": {
          "base_uri": "https://localhost:8080/"
        },
        "id": "idOu3Bhx7PEw",
        "outputId": "f88258dc-b91b-4b30-8c67-7aef78057dda"
      },
      "execution_count": null,
      "outputs": [
        {
          "output_type": "stream",
          "name": "stdout",
          "text": [
            "menu [('어묵', 500), ('튀김', 2000), ('김밥', 3000), ('떡볶이', 3500)]\n"
          ]
        }
      ]
    },
    {
      "cell_type": "code",
      "source": [
        "from collections import defaultdict\n",
        "s = [('yellow', 1), ('blue', 2), ('yellow', 3), ('blue', 4), ('red', 1)]\n",
        "d = defaultdict(list)\n",
        "for k, v in s :\n",
        "    d[k].append(v)\n",
        "print(d.items())"
      ],
      "metadata": {
        "colab": {
          "base_uri": "https://localhost:8080/"
        },
        "id": "RfynSXI1lzoT",
        "outputId": "18875c3f-803e-48b3-b595-ae6f96111011"
      },
      "execution_count": null,
      "outputs": [
        {
          "output_type": "stream",
          "name": "stdout",
          "text": [
            "dict_items([('yellow', [1, 3]), ('blue', [2, 4]), ('red', [1])])\n"
          ]
        }
      ]
    }
  ]
}