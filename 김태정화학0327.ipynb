{
  "nbformat": 4,
  "nbformat_minor": 0,
  "metadata": {
    "colab": {
      "provenance": [],
      "authorship_tag": "ABX9TyM5Eg9xFkxBJVTIJFxGBZ/T"
    },
    "kernelspec": {
      "name": "python3",
      "display_name": "Python 3"
    },
    "language_info": {
      "name": "python"
    }
  },
  "cells": [
    {
      "cell_type": "code",
      "execution_count": null,
      "metadata": {
        "colab": {
          "base_uri": "https://localhost:8080/"
        },
        "id": "rKPd4_qseGuy",
        "outputId": "4b158a0e-10ac-4a9f-e64a-0c438613703d"
      },
      "outputs": [
        {
          "output_type": "stream",
          "name": "stdout",
          "text": [
            "6\n"
          ]
        }
      ],
      "source": [
        "a = [1,2]\n",
        "b = [3,4]\n",
        "\n",
        "for i in a:\n",
        "    for j in b:\n",
        "        result = i + j\n",
        "print(result)"
      ]
    },
    {
      "cell_type": "code",
      "source": [
        "list_1 = [[1, 2], 3, [4, 5, 6]]\n",
        "a, b, c = list_1\n",
        "list_2 = a,b,c\n",
        "print(list_2)"
      ],
      "metadata": {
        "colab": {
          "base_uri": "https://localhost:8080/"
        },
        "id": "pvV4EA4efjHF",
        "outputId": "ae706d6e-1b9b-482a-f04f-1a59a98b00e2"
      },
      "execution_count": null,
      "outputs": [
        {
          "output_type": "stream",
          "name": "stdout",
          "text": [
            "([1, 2], 3, [4, 5, 6])\n"
          ]
        }
      ]
    },
    {
      "cell_type": "code",
      "source": [
        "#역순 출력\n",
        "sentence = 'python'\n",
        "reverse =''\n",
        "for i in sentence:\n",
        "    reverse = i + reverse #p+'', y+(p+''), t+(y+(p+'')\n",
        "print(reverse)"
      ],
      "metadata": {
        "colab": {
          "base_uri": "https://localhost:8080/"
        },
        "id": "SAoAVKWEiP3W",
        "outputId": "ff441bd0-5cf4-41f1-89cd-75da2a04cdfc"
      },
      "execution_count": null,
      "outputs": [
        {
          "output_type": "stream",
          "name": "stdout",
          "text": [
            "nohtyp\n"
          ]
        }
      ]
    },
    {
      "cell_type": "code",
      "source": [
        "#구구단 계산기\n",
        "dan = int(input('구구단 몇 단을 계산 할까?'))\n",
        "if dan == 5:\n",
        "    for i in range(1,10):\n",
        "        print(dan, 'X', i, '=', 5*i)\n"
      ],
      "metadata": {
        "colab": {
          "base_uri": "https://localhost:8080/"
        },
        "id": "pi_NsvCurcoi",
        "outputId": "a8774726-3ee2-4cb0-bb12-2e03dab49a9e"
      },
      "execution_count": null,
      "outputs": [
        {
          "output_type": "stream",
          "name": "stdout",
          "text": [
            "구구단 몇 단을 계산 할까?5\n",
            "5 X 1 = 5\n",
            "5 X 2 = 10\n",
            "5 X 3 = 15\n",
            "5 X 4 = 20\n",
            "5 X 5 = 25\n",
            "5 X 6 = 30\n",
            "5 X 7 = 35\n",
            "5 X 8 = 40\n",
            "5 X 9 = 45\n"
          ]
        }
      ]
    },
    {
      "cell_type": "code",
      "source": [
        "#구구단 계산기\n",
        "dan = int(input('구구단 몇 단을 계산 할까? '))\n",
        "while dan != 0:\n",
        "    if dan == 0: break\n",
        "    if not(dan>=2 and dan<=9):\n",
        "        print('잘못입력했습니다.','2부터 9사이의 숫자를 입력하세요')\n",
        "        dan = int(input('구구단 몇 단을 계산 할까?'))\n",
        "    else:\n",
        "        print('구구단'+str(dan)+'단을 계산합니다')\n",
        "        for i in range(1,10):\n",
        "           print(str(dan), 'X', str(i), '=', str(dan*i))\n",
        "        dan = int(input('구구단 몇 단을 계산 할까? '))\n",
        "print('구구단 게임 종료')"
      ],
      "metadata": {
        "colab": {
          "base_uri": "https://localhost:8080/"
        },
        "id": "Ji1-_rFozsDP",
        "outputId": "491407f4-6dda-4f26-ec5f-eb92254f4157"
      },
      "execution_count": null,
      "outputs": [
        {
          "output_type": "stream",
          "name": "stdout",
          "text": [
            "구구단 몇 단을 계산 할까? 1\n",
            "잘못입력했습니다. 2부터 9사이의 숫자를 입력하세요\n",
            "구구단 몇 단을 계산 할까?10\n",
            "잘못입력했습니다. 2부터 9사이의 숫자를 입력하세요\n",
            "구구단 몇 단을 계산 할까?2\n",
            "구구단2단을 계산합니다\n",
            "2 X 1 = 2\n",
            "2 X 2 = 4\n",
            "2 X 3 = 6\n",
            "2 X 4 = 8\n",
            "2 X 5 = 10\n",
            "2 X 6 = 12\n",
            "2 X 7 = 14\n",
            "2 X 8 = 16\n",
            "2 X 9 = 18\n",
            "구구단 몇 단을 계산 할까? 0\n",
            "구구단 게임 종료\n"
          ]
        }
      ]
    },
    {
      "cell_type": "code",
      "source": [
        "sentence = 'I love you'\n",
        "reverse = ''\n",
        "for char in sentence:\n",
        "    reverse = char + reverse\n",
        "print(reverse)"
      ],
      "metadata": {
        "colab": {
          "base_uri": "https://localhost:8080/"
        },
        "id": "OQMzENgIspDJ",
        "outputId": "420e5f30-abf9-436f-8eb6-eb0dcbbd44ee"
      },
      "execution_count": null,
      "outputs": [
        {
          "output_type": "stream",
          "name": "stdout",
          "text": [
            "uoy evol I\n"
          ]
        }
      ]
    },
    {
      "cell_type": "markdown",
      "source": [
        "#진법변환\n",
        "2진수(binary digit) : 0, 1로 표현\n",
        "8진수(octal digit) : 0,1,2,3,4,5,6,7로 표현\n",
        "16진수(hexa digit) : 0,1,2,3,4,5,6,7,8,9,a(10),b(11),c(12),d(13),e(14),f(15)\n"
      ],
      "metadata": {
        "id": "sO6OR3S9uwCo"
      }
    },
    {
      "cell_type": "code",
      "source": [
        "#10진수 543 = 5 * 100 + 4 * 10 + 3\n",
        "print(bin(127))\n",
        "print(oct(127))\n",
        "print(hex(127))"
      ],
      "metadata": {
        "colab": {
          "base_uri": "https://localhost:8080/"
        },
        "id": "lmYeOuHKvq5o",
        "outputId": "0650e693-da84-46fd-9058-a7234b6de943"
      },
      "execution_count": null,
      "outputs": [
        {
          "output_type": "stream",
          "name": "stdout",
          "text": [
            "0b1111111\n",
            "0o177\n",
            "0x7f\n"
          ]
        }
      ]
    },
    {
      "cell_type": "code",
      "source": [
        "#2진수 8진수 16진수수\n",
        "print(0b11)\n",
        "print(0o11)\n",
        "print(0x11)"
      ],
      "metadata": {
        "colab": {
          "base_uri": "https://localhost:8080/"
        },
        "id": "WeZ8M4oJv3FA",
        "outputId": "30a9a279-cfdc-48ad-b7a1-bfe1c391f499"
      },
      "execution_count": null,
      "outputs": [
        {
          "output_type": "stream",
          "name": "stdout",
          "text": [
            "3\n",
            "9\n",
            "17\n"
          ]
        }
      ]
    },
    {
      "cell_type": "code",
      "source": [],
      "metadata": {
        "colab": {
          "base_uri": "https://localhost:8080/"
        },
        "id": "G3spc1GNwDyg",
        "outputId": "cb3c20a8-6656-4fd9-c600-fb73d90ca9b0"
      },
      "execution_count": null,
      "outputs": [
        {
          "output_type": "stream",
          "name": "stdout",
          "text": [
            "0x7f\n"
          ]
        }
      ]
    },
    {
      "cell_type": "code",
      "source": [
        "#십진수를 이진수로 변환\n",
        "decimal = 10\n",
        "result = ''\n",
        "while (decimal > 0):\n",
        "    remainder = decimal % 2   # 10%2 5%2 2%2 1%2\n",
        "    decimal = decimal // 2   #10//2 5//2 2//2 1//2\n",
        "    result = str(remainder) + result\n",
        "print(result)"
      ],
      "metadata": {
        "colab": {
          "base_uri": "https://localhost:8080/"
        },
        "id": "tprjBoGktegh",
        "outputId": "a695df90-c6ce-4c77-bc70-e629731e72f5"
      },
      "execution_count": null,
      "outputs": [
        {
          "output_type": "stream",
          "name": "stdout",
          "text": [
            "1010\n"
          ]
        }
      ]
    },
    {
      "cell_type": "code",
      "source": [
        "#이진탐색\n",
        "import random\n",
        "com = random.randint(1,10)\n",
        "user_num = int(input('숫자입력:'))\n",
        "while user_num != com:\n",
        "    if user_num > com:\n",
        "        print('Down')\n",
        "    else:\n",
        "        print('UP')\n",
        "    user_num = int(input('숫자입력:'))\n",
        "print('정답입니다')"
      ],
      "metadata": {
        "colab": {
          "base_uri": "https://localhost:8080/"
        },
        "id": "q2iJboLYx_YA",
        "outputId": "9681fd16-6c6a-4936-e570-e4367c0dbf96"
      },
      "execution_count": null,
      "outputs": [
        {
          "output_type": "stream",
          "name": "stdout",
          "text": [
            "숫자입력:5\n",
            "Down\n",
            "숫자입력:4\n",
            "Down\n",
            "숫자입력:3\n",
            "Down\n",
            "숫자입력:1\n",
            "UP\n",
            "숫자입력:2\n",
            "정답입니다\n"
          ]
        }
      ]
    },
    {
      "cell_type": "code",
      "source": [
        "#2차원 리스트에서 평균 구하기\n",
        "#for문 2개를 사용한다\n",
        "kor_score=[49,79,20,100,80]\n",
        "math_score=[43,59,85,30,90]\n",
        "eng_score=[49,79,48,60,100]\n",
        "midterm_score = [kor_score, math_score, eng_score]\n",
        "\n",
        "student_score = [0, 0, 0, 0, 0]\n",
        "i = 0\n",
        "for subject in midterm_score:\n",
        "    for score in subject:\n",
        "        student_score[i] += score\n",
        "        i +=1\n",
        "    i = 0\n",
        "else:\n",
        "    a,b,c,d,e = student_score\n",
        "    student_average = [a/3, b/3, c/3, d/3, e/3]\n",
        "    print(student_average)"
      ],
      "metadata": {
        "colab": {
          "base_uri": "https://localhost:8080/"
        },
        "id": "fUM6ZQrH2sg2",
        "outputId": "ea843c84-a07b-4976-9c36-2d0176ebd889"
      },
      "execution_count": null,
      "outputs": [
        {
          "output_type": "stream",
          "name": "stdout",
          "text": [
            "[47.0, 72.33333333333333, 51.0, 63.333333333333336, 90.0]\n"
          ]
        }
      ]
    },
    {
      "cell_type": "code",
      "source": [
        "kor_score=[49,79,20,100,80]\n",
        "math_score=[43,59,85,30,90]\n",
        "eng_score=[49,79,48,60,100]\n",
        "midterm_score = [kor_score, math_score, eng_score]\n",
        "\n",
        "student_score = [0, 0, 0, 0, 0]\n",
        "i = 0\n",
        "for s in midterm_score:\n",
        "    for score in s:\n",
        "        student_score[i] += score\n",
        "        i += 1\n",
        "    i = 0\n",
        "a, b, c, d, e = student_score\n",
        "average = [a/3, b/3, c/3, d/3, e/3]\n",
        "print(average)"
      ],
      "metadata": {
        "colab": {
          "base_uri": "https://localhost:8080/"
        },
        "id": "fBeDx1PdO6t4",
        "outputId": "02838cbf-09ee-4955-ab9b-f56a8367d3f5"
      },
      "execution_count": null,
      "outputs": [
        {
          "output_type": "stream",
          "name": "stdout",
          "text": [
            "[47.0, 72.33333333333333, 51.0, 63.333333333333336, 90.0]\n"
          ]
        }
      ]
    },
    {
      "cell_type": "code",
      "source": [],
      "metadata": {
        "id": "qUfbIlCzpt9V"
      },
      "execution_count": null,
      "outputs": []
    }
  ]
}