{
  "nbformat": 4,
  "nbformat_minor": 0,
  "metadata": {
    "colab": {
      "provenance": [],
      "mount_file_id": "1c6ROcfYvUvJAfoOXizkvVU0onztxWu6o",
      "authorship_tag": "ABX9TyPZKS1PW7KssBE8l91czD7Q"
    },
    "kernelspec": {
      "name": "python3",
      "display_name": "Python 3"
    },
    "language_info": {
      "name": "python"
    }
  },
  "cells": [
    {
      "cell_type": "code",
      "execution_count": null,
      "metadata": {
        "colab": {
          "base_uri": "https://localhost:8080/"
        },
        "id": "nlkRLZpuu-Fn",
        "outputId": "9eb58a43-f157-4d35-d45a-c02ac9ded11d"
      },
      "outputs": [
        {
          "output_type": "stream",
          "name": "stdout",
          "text": [
            "어린왕자가안녕이라고말했다\n",
            "어린왕자가\n",
            "안녕\n",
            "이라고말했다\n",
            "어린왕자가\t안녕\t이라고말했다\n",
            "어린왕자가'안녕'이라고말했다\n"
          ]
        }
      ],
      "source": [
        "#문자열에서 특수문자 사용\n",
        "print('어린왕자가안녕이라고말했다')\n",
        "print('어린왕자가\\n안녕\\n이라고말했다')  #\\n은 줄바꿈\n",
        "print('어린왕자가\\t안녕\\t이라고말했다')  #\\n은 tap키 간격\n",
        "print(\"어린왕자가\\'안녕\\'이라고말했다\")  #\\'은 문자열 안에 따옴표"
      ]
    },
    {
      "cell_type": "code",
      "source": [
        "#단어 카운팅\n",
        "import re\n",
        "dir = '/content/drive/MyDrive/Colab Notebooks/고급파이썬/yesterday.txt'\n",
        "f = open(dir, 'r')\n",
        "yesterday_lyric = f.readlines()  #줄단위로 읽어와서 list로 저장\n",
        "print(yesterday_lyric)\n",
        "f.close\n",
        "\n",
        "contents = ''\n",
        "for line in yesterday_lyric:\n",
        "    contents = contents + line.strip() + '\\n'\n",
        "n_of_yesterday = contents.upper().count('YESTERDAY')\n",
        "print(re.search('^Yesterday', contents))\n",
        "print('yesterday의 개수는 %d개'%n_of_yesterday)"
      ],
      "metadata": {
        "colab": {
          "base_uri": "https://localhost:8080/"
        },
        "id": "X8HNGGdr2av9",
        "outputId": "3fe59062-580c-4dd7-e52c-073ad29dba60"
      },
      "execution_count": null,
      "outputs": [
        {
          "output_type": "stream",
          "name": "stdout",
          "text": [
            "['Yesterday all my troubles\\n', 'seemed so far away.\\n', 'Now it looks\\n', \"as though they're here to stay.\\n\", 'Oh, I believe in yesterday.\\n', '\\n', \"Suddenly I'm not half\\n\", 'the man I used to be.\\n', \"There's a shadow hanging over me.\\n\", 'Oh, yesterday came suddenly.\\n', '\\n', 'Why she had to go,\\n', \"I don't know,\\n\", \"she wouldn't say.\\n\", 'I said something wrong,\\n', 'now I long for yesterday.\\n', '\\n', 'Yesterday love was\\n', 'such an easy game to play.\\n', 'Now I need a place to hide away.\\n', 'Oh, I believe in yesterday.\\n', '\\n', 'Why she had to go,\\n', \"I don't know,\\n\", \"she wouldn't say.\\n\", 'I said something wrong,\\n', 'now I long for yesterday.\\n', '\\n', 'Yesterday love was\\n', 'such an easy game to play.\\n', 'Now I need a place to hide away.\\n', 'Oh, I believe in yesterday.\\n', '\\n', 'Mm mm mm mm mm mm mm\\n']\n",
            "<re.Match object; span=(0, 9), match='Yesterday'>\n",
            "yesterday의 개수는 9개\n"
          ]
        }
      ]
    },
    {
      "cell_type": "markdown",
      "source": [
        "#출력서식 지정\n",
        "1. %서식지정 (%s, %d, %f)\n",
        "2. format()gkatn\n",
        "3. f-string (python ver 3.6이상)\n",
        "퀴즈 네이밍 제외"
      ],
      "metadata": {
        "id": "DAZO-Gw38wXi"
      }
    },
    {
      "cell_type": "code",
      "source": [
        "Pi = 3.1415\n",
        "print('Pi값은 : %f'%Pi)\n",
        "print('Pi값은 : %.2f'%Pi)\n",
        "print('Pi값은 : %6.2f'%Pi)\n",
        "print('Pi값은 : %3.2f'%Pi)"
      ],
      "metadata": {
        "colab": {
          "base_uri": "https://localhost:8080/"
        },
        "id": "uq3z4m072arr",
        "outputId": "7c763076-0a16-4bed-ba51-43b071d7e8fe"
      },
      "execution_count": null,
      "outputs": [
        {
          "output_type": "stream",
          "name": "stdout",
          "text": [
            "Pi값은 : 3.141500\n",
            "Pi값은 : 3.14\n",
            "Pi값은 :   3.14\n",
            "Pi값은 : 3.14\n"
          ]
        }
      ]
    },
    {
      "cell_type": "code",
      "source": [
        "print('정수값 : %d'%17)\n",
        "print('정수값 : %4d'%17)\n",
        "print('정수값 : %04d'%17)\n",
        "print('정수값 : %-04d'%17)"
      ],
      "metadata": {
        "colab": {
          "base_uri": "https://localhost:8080/"
        },
        "id": "HU7uYp71-Suy",
        "outputId": "e5db8e02-0d70-434a-bd07-44748e4f3bfe"
      },
      "execution_count": null,
      "outputs": [
        {
          "output_type": "stream",
          "name": "stdout",
          "text": [
            "정수값 : 17\n",
            "정수값 :   17\n",
            "정수값 : 0017\n",
            "정수값 : 17  \n"
          ]
        }
      ]
    },
    {
      "cell_type": "code",
      "source": [
        "Pi = 3.1415\n",
        "print('Pi값은 : {}'.format(Pi))"
      ],
      "metadata": {
        "colab": {
          "base_uri": "https://localhost:8080/"
        },
        "id": "RlceE0CH-_Fl",
        "outputId": "0780bb7e-f570-4b0c-f2fe-d4815d5d3ac7"
      },
      "execution_count": null,
      "outputs": [
        {
          "output_type": "stream",
          "name": "stdout",
          "text": [
            "Pi값은 : 3.1415\n"
          ]
        }
      ]
    },
    {
      "cell_type": "code",
      "source": [
        "a, b = 2, 3\n",
        "print('{} + {} = {}'.format(a,b,a+b))\n",
        "print('{1} + {0} = {2}'.format(a,b,a+b))\n",
        "print('{1:.2f} + {0:.1f} = {2:10.1f}'.format(a,b,a+b))\n",
        "print('{1:.2f} + {0:.1f} = {2:<10.1f}'.format(a,b,a+b))  #왼쪽정렬"
      ],
      "metadata": {
        "colab": {
          "base_uri": "https://localhost:8080/"
        },
        "id": "hObJKUph-_2N",
        "outputId": "0c029fc2-9875-41c2-8597-8033c4ff8141"
      },
      "execution_count": null,
      "outputs": [
        {
          "output_type": "stream",
          "name": "stdout",
          "text": [
            "2 + 3 = 5\n",
            "3 + 2 = 5\n",
            "3.00 + 2.0 =        5.0\n",
            "3.00 + 2.0 = 5.0       \n"
          ]
        }
      ]
    },
    {
      "cell_type": "code",
      "source": [
        "#2 더하기 3은 5입니다\n",
        "a, b = 2, 3\n",
        "print(f'{a} 더하기 {b}은 {a+b}입니다')\n",
        "print(f'{a:.2f} 더하기 {b:.1f}은 {a+b:10.2f}입니다')\n",
        "print(f'{a:.2f} 더하기 {b:.1f}은 {a+b:<10.2f}입니다')  #왼쪽정렬"
      ],
      "metadata": {
        "colab": {
          "base_uri": "https://localhost:8080/"
        },
        "id": "thyKib8---_-",
        "outputId": "de5708fd-d281-4df1-93c0-67032132f339"
      },
      "execution_count": null,
      "outputs": [
        {
          "output_type": "stream",
          "name": "stdout",
          "text": [
            "2 더하기 3은 5입니다\n",
            "2.00 더하기 3.0은       5.00입니다\n",
            "2.00 더하기 3.0은 5.00      입니다\n"
          ]
        }
      ]
    },
    {
      "cell_type": "markdown",
      "source": [
        "#정규표현식(Regular Expression) (퀴즈, 시험X)\n",
        "패턴매칭기반으로 특정한 규칙을 갖는 문자열을 검색 분리 교체하는 기능을 제공하는 형식언어\n",
        "\n",
        "re 모듈\n",
        "re.match('패턴'.'문자열') #문자열 처음부터 매칭\n",
        "re.search('패턴'.'문자열')"
      ],
      "metadata": {
        "id": "wtcRiAZADoU1"
      }
    },
    {
      "cell_type": "code",
      "source": [
        "import re\n",
        "print(re.match('Hello', 'Hello, world!'))\n",
        "print(re.search('^Hello', 'Hello, world!'))\n",
        "print(re.search('world!$', 'Hello, world!'))\n",
        "print(re.match('python', 'Hello, world!'))"
      ],
      "metadata": {
        "colab": {
          "base_uri": "https://localhost:8080/"
        },
        "id": "Hw83QKtkCg9z",
        "outputId": "bcf0a1e6-8efa-4937-84ef-7f6eaf500272"
      },
      "execution_count": null,
      "outputs": [
        {
          "output_type": "stream",
          "name": "stdout",
          "text": [
            "<re.Match object; span=(0, 5), match='Hello'>\n",
            "<re.Match object; span=(0, 5), match='Hello'>\n",
            "<re.Match object; span=(7, 13), match='world!'>\n",
            "None\n"
          ]
        }
      ]
    },
    {
      "cell_type": "markdown",
      "source": [
        "6장 연습문제\n",
        "1. 5\n",
        "2. 3 소문자인지 확인하는 함수\n",
        "3. 3\n",
        "4. 5\n",
        "5. 1\n",
        "6. 2\n",
        "7. 4\n",
        "8. 4\n",
        "9. 4 find는 없으면 -1반환\n",
        "10. 3\n",
        "11. 4\n",
        "12. 5\n",
        "13. 1\n",
        "14. 1\n",
        "15. 2"
      ],
      "metadata": {
        "id": "02SsVz3UK8-P"
      }
    },
    {
      "cell_type": "code",
      "source": [
        "#12번문제\n",
        "a =10\n",
        "b = 20\n",
        "sum_result = f'a + b = {a+b}'\n",
        "print(sum_result)"
      ],
      "metadata": {
        "colab": {
          "base_uri": "https://localhost:8080/"
        },
        "id": "mHqUf343PUbY",
        "outputId": "be432e06-f225-4204-c1fd-51f9566d2ffd"
      },
      "execution_count": null,
      "outputs": [
        {
          "output_type": "stream",
          "name": "stdout",
          "text": [
            "a + b = 30\n"
          ]
        }
      ]
    },
    {
      "cell_type": "code",
      "source": [
        "#13번문제\n",
        "word = 'word'\n",
        "print(f'l{word:<10}l')\n",
        "print(f'l{word:^10}l')\n",
        "print(f'l{word:>10}l')"
      ],
      "metadata": {
        "colab": {
          "base_uri": "https://localhost:8080/"
        },
        "id": "v6Yk75nwPulE",
        "outputId": "09546d7d-45f4-4514-9c8e-c13768c215fc"
      },
      "execution_count": null,
      "outputs": [
        {
          "output_type": "stream",
          "name": "stdout",
          "text": [
            "lword      l\n",
            "l   word   l\n",
            "l      wordl\n"
          ]
        }
      ]
    },
    {
      "cell_type": "code",
      "source": [
        "#14번문제\n",
        "name = 'Hanbit'\n",
        "a = name.find('H')\n",
        "b = name.count('H') * 8\n",
        "c = len(name) * 2 + 3\n",
        "print('REMEMBER', str(a)+str(b)+str(c))"
      ],
      "metadata": {
        "colab": {
          "base_uri": "https://localhost:8080/"
        },
        "id": "aBwyeCfiQwnf",
        "outputId": "f8f667d8-db67-4b36-b3a4-114918d32f2a"
      },
      "execution_count": null,
      "outputs": [
        {
          "output_type": "stream",
          "name": "stdout",
          "text": [
            "REMEMBER 0815\n"
          ]
        }
      ]
    },
    {
      "cell_type": "code",
      "source": [
        "#15번문제\n",
        "count = 0\n",
        "for i in range(10):\n",
        "    for j in range(0, i+1):\n",
        "        print('*', end ='')\n",
        "        count += 1\n",
        "    print(count)"
      ],
      "metadata": {
        "colab": {
          "base_uri": "https://localhost:8080/"
        },
        "id": "JEzdabpcSFKA",
        "outputId": "51365d6b-88c6-4e19-ab1d-e7d5be35b30f"
      },
      "execution_count": null,
      "outputs": [
        {
          "output_type": "stream",
          "name": "stdout",
          "text": [
            "*1\n",
            "**3\n",
            "***6\n",
            "****10\n",
            "*****15\n",
            "******21\n",
            "*******28\n",
            "********36\n",
            "*********45\n",
            "**********55\n"
          ]
        }
      ]
    }
  ]
}