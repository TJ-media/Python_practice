{
  "nbformat": 4,
  "nbformat_minor": 0,
  "metadata": {
    "colab": {
      "provenance": [],
      "authorship_tag": "ABX9TyOrUiyd8pW5LjeorJYINO0p"
    },
    "kernelspec": {
      "name": "python3",
      "display_name": "Python 3"
    },
    "language_info": {
      "name": "python"
    }
  },
  "cells": [
    {
      "cell_type": "markdown",
      "source": [
        "함수의 인수(argument) 함수의 입력으로 들어가는 변수의 다양한 형태\n",
        "\n",
        "\n",
        "-키워드 인수 : 지정한 변수명을 사용하여 함수의 인수를 지정하는 방법\n",
        "\n",
        "-디폴트 인수 : 함수 선언할 때 미리 디폴트 변수명을 지정하는 방법\n",
        "\n",
        "-가변 인수(variable-length argument) : 함수의 인터페이스에 지정된 매개변수 이외의 추가 매개변수를 함수에 입력할 수 있게 지원하는 방법,\n",
        "항의 개수 정해져 있지 않을 때 사용,\n",
        "튜플 자료형 사용\n",
        "\n",
        "-키워드 가변 인수(keyword variable-length argument) : 매개변수의 이름을 따로 지정하지 않고 입력하는 방법\n",
        "\n",
        "\n",
        "\n"
      ],
      "metadata": {
        "id": "4AyhHvh-vSvd"
      }
    },
    {
      "cell_type": "code",
      "source": [
        "#키워드 인수\n",
        "def print_something(my_name, your_name):\n",
        "    print('Hello {0}, My name is {1}'.format(your_name, my_name))\n",
        "\n",
        "print_something('gildong', 'python')\n",
        "print_something(your_name = 'python', my_name = 'gildong')"
      ],
      "metadata": {
        "colab": {
          "base_uri": "https://localhost:8080/"
        },
        "id": "LwulUFshrdDF",
        "outputId": "5a134ceb-55d1-4651-8085-fda780fda16b"
      },
      "execution_count": null,
      "outputs": [
        {
          "output_type": "stream",
          "name": "stdout",
          "text": [
            "Hello python, My name is gildong\n",
            "Hello python, My name is gildong\n"
          ]
        }
      ]
    },
    {
      "cell_type": "code",
      "source": [
        "#디폴트 인수\n",
        "def print_something(my_name, your_name = 'PYTHON'):\n",
        "    print('Hello {0}, My name is {1}'.format(your_name, my_name))\n",
        "\n",
        "print_something('gildong', 'python')\n",
        "print_something(my_name = 'gildong')"
      ],
      "metadata": {
        "colab": {
          "base_uri": "https://localhost:8080/"
        },
        "id": "ar0slY-Hw6-z",
        "outputId": "62f1e535-1951-475e-9968-19614dc2691c"
      },
      "execution_count": null,
      "outputs": [
        {
          "output_type": "stream",
          "name": "stdout",
          "text": [
            "Hello python, My name is gildong\n",
            "Hello PYTHON, My name is gildong\n"
          ]
        }
      ]
    },
    {
      "cell_type": "code",
      "source": [
        "#가변 인수\n",
        "def asterisk_test(a, b, *args):\n",
        "    return a + b + sum(args)\n",
        "\n",
        "print(asterisk_test(1, 2, 3, 4, 5))"
      ],
      "metadata": {
        "colab": {
          "base_uri": "https://localhost:8080/"
        },
        "id": "iQ54z_SQyWSi",
        "outputId": "905f2bcd-b292-4485-e48e-9afdb590ddec"
      },
      "execution_count": null,
      "outputs": [
        {
          "output_type": "stream",
          "name": "stdout",
          "text": [
            "15\n"
          ]
        }
      ]
    },
    {
      "cell_type": "code",
      "source": [
        "def asterisk_test(a, b, *args):\n",
        "    return sum(args) #3 + 4 + 5\n",
        "\n",
        "print(asterisk_test(1, 2, 3, 4, 5))"
      ],
      "metadata": {
        "colab": {
          "base_uri": "https://localhost:8080/"
        },
        "id": "-rqBKkHEyqU6",
        "outputId": "e90ae13c-a3ac-44c5-9c2e-f5d54f4b74fe"
      },
      "execution_count": null,
      "outputs": [
        {
          "output_type": "stream",
          "name": "stdout",
          "text": [
            "12\n"
          ]
        }
      ]
    },
    {
      "cell_type": "code",
      "source": [
        "def asterisk_test(a, b, *args):\n",
        "    return sum(args) * b #(3 + 4 + 5) * 2\n",
        "\n",
        "print(asterisk_test(1, 2, 3, 4, 5))"
      ],
      "metadata": {
        "colab": {
          "base_uri": "https://localhost:8080/"
        },
        "id": "zOUl2c4BzQby",
        "outputId": "59db79a2-1812-41df-9865-e450c039c7f4"
      },
      "execution_count": null,
      "outputs": [
        {
          "output_type": "stream",
          "name": "stdout",
          "text": [
            "24\n"
          ]
        }
      ]
    },
    {
      "cell_type": "code",
      "source": [
        "def asterisk_test(a, b, *args):\n",
        "    return min(args) #3, 4, 5 중 최소값\n",
        "\n",
        "print(asterisk_test(1, 2, 3, 4, 5))"
      ],
      "metadata": {
        "colab": {
          "base_uri": "https://localhost:8080/"
        },
        "id": "WvH8w1fezeGZ",
        "outputId": "f28f0de9-87bf-44ba-930f-30c37345e4e8"
      },
      "execution_count": null,
      "outputs": [
        {
          "output_type": "stream",
          "name": "stdout",
          "text": [
            "3\n"
          ]
        }
      ]
    },
    {
      "cell_type": "code",
      "source": [
        "def asterisk_test(a, b, *args):\n",
        "    print(args)\n",
        "    print(type(args))\n",
        "    print(len(args))\n",
        "asterisk_test(1, 2, 3, 4, 5)"
      ],
      "metadata": {
        "colab": {
          "base_uri": "https://localhost:8080/"
        },
        "id": "HCOtBdz9z3vp",
        "outputId": "c69be707-be74-4c3a-a33c-2e0f8e5e4158"
      },
      "execution_count": null,
      "outputs": [
        {
          "output_type": "stream",
          "name": "stdout",
          "text": [
            "(3, 4, 5)\n",
            "<class 'tuple'>\n",
            "3\n"
          ]
        }
      ]
    },
    {
      "cell_type": "code",
      "source": [
        "def asterisk_test(*args):\n",
        "    x, y, *z = args\n",
        "    return x, y, z\n",
        "\n",
        "print(asterisk_test(1, 2, 3, 4, 5))"
      ],
      "metadata": {
        "colab": {
          "base_uri": "https://localhost:8080/"
        },
        "id": "y8pRKwNM0g5A",
        "outputId": "18a37989-7312-4473-e74e-e61a15efa1d4"
      },
      "execution_count": null,
      "outputs": [
        {
          "output_type": "stream",
          "name": "stdout",
          "text": [
            "(1, 2, [3, 4, 5])\n"
          ]
        }
      ]
    },
    {
      "cell_type": "code",
      "source": [
        "#키워드 가변 인수\n",
        "def kwargs_test(**kwargs):\n",
        "    print(kwargs) #딕셔너리 구조\n",
        "    print('First value is {first}'.format(**kwargs))\n",
        "    print('Second value is {second}'.format(**kwargs))\n",
        "    print('Third value is {third}'.format(**kwargs))\n",
        "\n",
        "kwargs_test(first = 3, second = 4, third = 5)"
      ],
      "metadata": {
        "colab": {
          "base_uri": "https://localhost:8080/"
        },
        "id": "xGD8ehv31VZx",
        "outputId": "489d8269-f247-44df-cb78-24a4bd6fa94d"
      },
      "execution_count": null,
      "outputs": [
        {
          "output_type": "stream",
          "name": "stdout",
          "text": [
            "{'first': 3, 'second': 4, 'third': 5}\n",
            "First value is 3\n",
            "Second value is 4\n",
            "Third value is 5\n"
          ]
        }
      ]
    },
    {
      "cell_type": "code",
      "source": [
        "def kwargs_test(one, two, *args, **kwargs):\n",
        "    print(one+two+sum(args))\n",
        "    print(kwargs)\n",
        "kwargs_test(3, 4, 5, 6, 7, 8, 9, first = 3, second = 4, third = 5)"
      ],
      "metadata": {
        "colab": {
          "base_uri": "https://localhost:8080/"
        },
        "id": "zG_9YF1b2MEJ",
        "outputId": "6d1b96f7-e49d-4d8f-87d9-6b358a4debd0"
      },
      "execution_count": null,
      "outputs": [
        {
          "output_type": "stream",
          "name": "stdout",
          "text": [
            "42\n",
            "{'first': 3, 'second': 4, 'third': 5}\n"
          ]
        }
      ]
    },
    {
      "cell_type": "markdown",
      "source": [
        "chapter 5 함수\n",
        "1. 3\n",
        "2. 1\n",
        "3. 1\n",
        "4. 3\n",
        "5. 3\n",
        "6. 1 (1 키워드, 2 디폴트, 3 가변, 4 키워드가변)\n",
        "7. 5\n",
        "8. 4\n",
        "9. None 반환값이 없어서\n",
        "10. 1\n",
        "11. 10, 20\n",
        "12. 5\n",
        "13. 2\n",
        "14. None\n",
        "15. 1"
      ],
      "metadata": {
        "id": "XJIcfgoT3wm_"
      }
    },
    {
      "cell_type": "code",
      "source": [
        "#연습문제 3\n",
        "def counter(*args):\n",
        "    print(args) #원소가 1개 있는 튜플 형태\n",
        "    count = len(args)\n",
        "    return count\n",
        "print(counter(['test','hello','oooo']))"
      ],
      "metadata": {
        "colab": {
          "base_uri": "https://localhost:8080/"
        },
        "id": "JLXbwTKW4MRf",
        "outputId": "0eebcbfe-a9a9-42d9-b041-4974b6ce9072"
      },
      "execution_count": null,
      "outputs": [
        {
          "output_type": "stream",
          "name": "stdout",
          "text": [
            "(['test', 'hello', 'oooo'],)\n",
            "1\n"
          ]
        }
      ]
    },
    {
      "cell_type": "code",
      "source": [
        "#연습문제 3 변형\n",
        "def counter(*args):\n",
        "    print(*args)\n",
        "    count = len(*args)\n",
        "    return count\n",
        "print(counter(['test','hello','oooo']))"
      ],
      "metadata": {
        "colab": {
          "base_uri": "https://localhost:8080/"
        },
        "id": "VvkoXN7845fe",
        "outputId": "141a28ea-557b-4140-f4a4-dc8a1f48ef1e"
      },
      "execution_count": null,
      "outputs": [
        {
          "output_type": "stream",
          "name": "stdout",
          "text": [
            "['test', 'hello', 'oooo']\n",
            "3\n"
          ]
        }
      ]
    },
    {
      "cell_type": "markdown",
      "source": [
        "12장 예외처리, 파일 다루기\n",
        "예외 : 프로그램을 개발하면서 예상하지 못한 상황이 발생하는 것\n",
        "try:\n",
        "except:\n"
      ],
      "metadata": {
        "id": "gBbNh9e_A448"
      }
    },
    {
      "cell_type": "code",
      "source": [
        "for i in range(10):\n",
        "    try:\n",
        "        result = 10 / i\n",
        "    except:\n",
        "        print('Not divided by 0')\n",
        "    else:\n",
        "        print(10/i)"
      ],
      "metadata": {
        "colab": {
          "base_uri": "https://localhost:8080/"
        },
        "id": "ia3l4pC2A34s",
        "outputId": "66711a72-02c9-4b92-ad6c-de9f3574791e"
      },
      "execution_count": null,
      "outputs": [
        {
          "output_type": "stream",
          "name": "stdout",
          "text": [
            "Not divided by 0\n",
            "10.0\n",
            "5.0\n",
            "3.3333333333333335\n",
            "2.5\n",
            "2.0\n",
            "1.6666666666666667\n",
            "1.4285714285714286\n",
            "1.25\n",
            "1.1111111111111112\n"
          ]
        }
      ]
    },
    {
      "cell_type": "code",
      "source": [
        "try:\n",
        "    for i in range(1, 10):\n",
        "        result = 10 // i\n",
        "        print(result)\n",
        "except:\n",
        "    print('Not divided by 0')\n",
        "finally:\n",
        "    print('종료')"
      ],
      "metadata": {
        "colab": {
          "base_uri": "https://localhost:8080/"
        },
        "id": "5CCvGQ2SCW48",
        "outputId": "bc03e190-264f-45a3-ac52-047f47960a35"
      },
      "execution_count": null,
      "outputs": [
        {
          "output_type": "stream",
          "name": "stdout",
          "text": [
            "10\n",
            "5\n",
            "3\n",
            "2\n",
            "2\n",
            "1\n",
            "1\n",
            "1\n",
            "1\n",
            "종료\n"
          ]
        }
      ]
    },
    {
      "cell_type": "code",
      "source": [
        "c_code = {'a':1, 'k':82, 'c':86, 'j':81}\n",
        "print(c_code.values())\n",
        "print(c_code)\n",
        "print(c_code.keys())\n",
        "print(85 in c_code.values())\n",
        "print('k' in c_code.keys())"
      ],
      "metadata": {
        "colab": {
          "base_uri": "https://localhost:8080/"
        },
        "id": "vnxqdhFTgN3m",
        "outputId": "853f603e-c98e-4b65-dd62-681a59e8f7c8"
      },
      "execution_count": null,
      "outputs": [
        {
          "output_type": "stream",
          "name": "stdout",
          "text": [
            "dict_values([1, 82, 86, 81])\n",
            "{'a': 1, 'k': 82, 'c': 86, 'j': 81}\n",
            "dict_keys(['a', 'k', 'c', 'j'])\n",
            "False\n",
            "True\n"
          ]
        }
      ]
    },
    {
      "cell_type": "markdown",
      "source": [
        "객체 지향 프로그래밍(object oriented programming, oop)\n"
      ],
      "metadata": {
        "id": "Xg1LPC_tEIFz"
      }
    }
  ]
}